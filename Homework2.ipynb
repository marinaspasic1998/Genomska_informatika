{
  "nbformat": 4,
  "nbformat_minor": 0,
  "metadata": {
    "colab": {
      "name": "Homework2.ipynb",
      "provenance": []
    },
    "kernelspec": {
      "name": "python3",
      "display_name": "Python 3"
    },
    "language_info": {
      "name": "python"
    }
  },
  "cells": [
    {
      "cell_type": "code",
      "execution_count": 1,
      "metadata": {
        "colab": {
          "base_uri": "https://localhost:8080/"
        },
        "id": "EANMubA-S-Lo",
        "outputId": "b4289021-d223-4816-c446-dde5b92b33f2"
      },
      "outputs": [
        {
          "output_type": "stream",
          "name": "stdout",
          "text": [
            "Collecting pysam\n",
            "  Downloading pysam-0.19.0-cp37-cp37m-manylinux_2_12_x86_64.manylinux2010_x86_64.whl (15.0 MB)\n",
            "\u001b[K     |████████████████████████████████| 15.0 MB 6.5 MB/s \n",
            "\u001b[?25hInstalling collected packages: pysam\n",
            "Successfully installed pysam-0.19.0\n"
          ]
        }
      ],
      "source": [
        "!pip install pysam\n",
        "import pysam"
      ]
    },
    {
      "cell_type": "code",
      "source": [
        "samfile = pysam.AlignmentFile(\"merged-tumor.bam\", \"rb\")\n",
        "\n",
        "i=0\n",
        "for read in samfile:\n",
        "    print(read)\n",
        "    print ('Read '+str(i+1)+' flag: '+str(read.flag))\n",
        "    i=i+1\n",
        "    if i>10:\n",
        "      break\n",
        "\n",
        "\n",
        "samfile.close()"
      ],
      "metadata": {
        "colab": {
          "base_uri": "https://localhost:8080/"
        },
        "id": "AClQsc7MTYLh",
        "outputId": "0df21262-3896-4992-a9cd-7d2e867ec1f0"
      },
      "execution_count": 11,
      "outputs": [
        {
          "output_type": "stream",
          "name": "stdout",
          "text": [
            "C0HVYACXX120402:7:1207:5722:57044\t1187\t#20\t9483249\t27\t76M\t#20\t9483382\t209\tTTTTCAAACAGTATCTATGCCTGCCAAATGTGAACATATAAAAAAAAACCAGAATGTGCCATTCTGATTTAAACTG\tarray('B', [28, 28, 27, 29, 31, 30, 31, 31, 29, 31, 35, 30, 29, 31, 34, 30, 29, 23, 41, 32, 20, 30, 29, 34, 34, 29, 30, 31, 30, 30, 30, 33, 33, 26, 39, 12, 25, 19, 32, 30, 35, 28, 35, 33, 23, 33, 35, 36, 30, 38, 33, 41, 34, 35, 31, 33, 23, 30, 30, 36, 27, 32, 29, 34, 35, 41, 33, 31, 33, 29, 32, 32, 31, 31, 31, 34])\t[('XA', 'GL000217.1,-110754,76M,1;'), ('BD', 'NNNNNNNNNNNNNNNNNNNNNNNNNNNNNNNNNNNNNNNNNNNNNNNNNNNNNNNNNNNNNNNNNNNNNNNNNNNN'), ('MD', '76'), ('RG', '1'), ('BI', 'NNNNNNNNNNNNNNNNNNNNNNNNNNNNNNNNNNNNNNNNNNNNNNNNNNNNNNNNNNNNNNNNNNNNNNNNNNNN'), ('NM', 0), ('MQ', 27), ('AS', 76), ('XS', 71)]\n",
            "Read 1 flag: 1187\n",
            "D0RE2ACXX120401:1:2105:2631:113383\t163\t#20\t9483249\t27\t76M\t#20\t9483382\t209\tTTTTCAAACAGTATCTATGCCTGCCAAATGTGAACATATAAAAAAAAACCAGAATGTGCCATTCTGATTTAAACTG\tarray('B', [28, 29, 27, 30, 31, 30, 31, 31, 34, 31, 40, 30, 29, 34, 41, 34, 29, 33, 39, 40, 37, 36, 30, 39, 36, 34, 29, 35, 26, 41, 31, 33, 31, 35, 39, 34, 34, 29, 34, 31, 36, 37, 35, 35, 33, 35, 36, 35, 40, 37, 34, 39, 30, 29, 28, 15, 19, 30, 36, 36, 36, 33, 33, 38, 34, 37, 33, 30, 33, 33, 29, 34, 32, 30, 31, 29])\t[('XA', 'GL000217.1,-110754,76M,1;'), ('BD', 'NNNNNNNNNNNNNNNNNNNNNNNNNNNNNNNNNNNNNNNNNNNNNNNNNNNNNNNNNNNNNNNNNNNNNNNNNNNN'), ('MD', '76'), ('RG', '1'), ('BI', 'NNNNNNNNNNNNNNNNNNNNNNNNNNNNNNNNNNNNNNNNNNNNNNNNNNNNNNNNNNNNNNNNNNNNNNNNNNNN'), ('NM', 0), ('MQ', 27), ('AS', 76), ('XS', 71)]\n",
            "Read 2 flag: 163\n",
            "C0HVYACXX120402:5:1304:16767:148118\t99\t#20\t9483250\t27\t76M\t#20\t9483361\t187\tTTTCAAACAGTATCTATGCCTGCCAAATGTGAACATATAAAAAAAAACCAGAATGTGCCATTCTGATTTAAACTGC\tarray('B', [32, 28, 28, 33, 31, 35, 36, 38, 31, 42, 21, 32, 29, 37, 35, 31, 32, 41, 40, 37, 36, 40, 40, 38, 34, 37, 36, 33, 41, 31, 41, 34, 36, 40, 35, 33, 32, 32, 32, 37, 37, 35, 37, 37, 36, 37, 35, 40, 38, 35, 41, 35, 37, 32, 41, 31, 36, 39, 37, 33, 32, 34, 38, 37, 39, 34, 31, 35, 33, 31, 35, 34, 35, 30, 29, 34])\t[('XA', 'GL000217.1,-110753,76M,1;'), ('BD', 'NNNNNNNNNNNNNNNNNNNNNNNNNNNNNNNNNNNNNNNNNNNNNNNNNNNNNNNNNNNNNNNNNNNNNNNNNNNN'), ('MD', '76'), ('RG', '1'), ('BI', 'NNNNNNNNNNNNNNNNNNNNNNNNNNNNNNNNNNNNNNNNNNNNNNNNNNNNNNNNNNNNNNNNNNNNNNNNNNNN'), ('NM', 0), ('MQ', 27), ('AS', 76), ('XS', 71)]\n",
            "Read 3 flag: 99\n",
            "C0HVYACXX120402:8:1101:6314:155036\t99\t#20\t9483264\t51\t76M\t#20\t9483294\t106\tTATGCCTGCCAAATGTGAACATATAAAAAAAAACCAGAATGTGCCATTCTGATTTAAACTGCTTATTAGTTAAAAC\tarray('B', [32, 29, 28, 34, 36, 37, 36, 42, 38, 37, 34, 36, 36, 31, 40, 31, 42, 34, 36, 40, 34, 33, 31, 33, 30, 36, 35, 37, 35, 36, 36, 36, 36, 40, 37, 34, 42, 34, 36, 33, 41, 33, 41, 40, 37, 35, 32, 34, 41, 36, 41, 35, 32, 35, 34, 31, 37, 37, 39, 37, 43, 39, 37, 31, 31, 31, 33, 31, 41, 30, 34, 31, 32, 30, 31, 34])\t[('XA', 'GL000217.1,-110739,76M,1;'), ('BD', 'NNNNNNNNNNNNNNNNNNNNNNNNNNNNNNNNNNNNNNNNNNNNNNNNNNNNNNNNNNNNNNNNNNNNNNNNNNNN'), ('MD', '76'), ('RG', '1'), ('BI', 'NNNNNNNNNNNNNNNNNNNNNNNNNNNNNNNNNNNNNNNNNNNNNNNNNNNNNNNNNNNNNNNNNNNNNNNNNNNN'), ('NM', 0), ('MQ', 49), ('AS', 76), ('XS', 71)]\n",
            "Read 4 flag: 99\n",
            "D0RE2ACXX120401:4:2106:2222:188475\t99\t#20\t9483267\t27\t76M\t#20\t9483344\t153\tGCCTGCCAAATGTGAACATATAAAAAAAAACCAGAATGTGCCATTCTGATTTAAACTGCTTATTAGTTAAAACCCT\tarray('B', [32, 32, 31, 33, 36, 37, 37, 35, 35, 36, 31, 41, 31, 36, 33, 36, 41, 34, 31, 31, 31, 32, 36, 35, 36, 37, 36, 35, 35, 36, 41, 37, 34, 39, 34, 36, 31, 41, 31, 40, 40, 37, 35, 33, 33, 41, 36, 41, 33, 31, 34, 35, 32, 37, 37, 40, 37, 40, 39, 37, 31, 30, 32, 31, 31, 36, 31, 35, 32, 37, 35, 35, 35, 30, 31, 34])\t[('XA', 'GL000217.1,-110736,76M,1;'), ('BD', 'NNNNNNNNNNNNNNNNNNNNNNNNNNNNNNNNNNNNNNNNNNNNNNNNNNNNNNNNNNNNNNNNNNNNNNNNNNNN'), ('MD', '76'), ('RG', '1'), ('BI', 'NNNNNNNNNNNNNNNNNNNNNNNNNNNNNNNNNNNNNNNNNNNNNNNNNNNNNNNNNNNNNNNNNNNNNNNNNNNN'), ('NM', 0), ('MQ', 27), ('AS', 76), ('XS', 71)]\n",
            "Read 5 flag: 99\n",
            "C0HVYACXX120402:7:2104:3109:85401\t163\t#20\t9483270\t27\t76M\t#20\t9483314\t120\tTGCCAAATGTGAACATATAAAAAAAAACCAGAATGTGCCATTCTGATTTAAACTGCTTATTAGTTAAAACCCTCAA\tarray('B', [28, 22, 28, 32, 30, 33, 34, 32, 40, 31, 39, 31, 35, 41, 33, 33, 29, 33, 29, 35, 34, 34, 34, 35, 34, 34, 35, 41, 34, 33, 40, 34, 36, 33, 41, 33, 41, 40, 38, 33, 34, 34, 42, 36, 40, 34, 33, 34, 34, 31, 35, 37, 41, 36, 41, 40, 38, 34, 33, 33, 34, 31, 42, 33, 33, 32, 35, 36, 35, 39, 37, 35, 32, 31, 31, 32])\t[('XA', 'GL000217.1,-110733,76M,1;'), ('BD', 'NNNNNNNNNNNNNNNNNNNNNNNNNNNNNNNNNNNNNNNNNNNNNNNNNNNNNNNNNNNNNNNNNNNNNNNNNNNN'), ('MD', '76'), ('RG', '1'), ('BI', 'NNNNNNNNNNNNNNNNNNNNNNNNNNNNNNNNNNNNNNNNNNNNNNNNNNNNNNNNNNNNNNNNNNNNNNNNNNNN'), ('NM', 0), ('MQ', 27), ('AS', 76), ('XS', 71)]\n",
            "Read 6 flag: 163\n",
            "C0HVYACXX120402:3:1307:14105:43830\t99\t#20\t9483279\t27\t76M\t#20\t9483392\t189\tTGAACATATAAAAAAAAACCAGAATGTGCCATTCTGATTTAAACTGCTTATTAGTTAAAACCCTCAAGATAACATC\tarray('B', [32, 30, 30, 33, 36, 35, 31, 33, 30, 31, 36, 36, 36, 36, 36, 36, 36, 36, 40, 36, 34, 40, 34, 37, 31, 41, 31, 39, 40, 37, 35, 31, 35, 42, 36, 42, 33, 32, 34, 34, 32, 37, 37, 41, 36, 41, 39, 36, 34, 32, 33, 35, 32, 41, 31, 35, 32, 37, 37, 35, 41, 38, 37, 37, 38, 33, 37, 38, 32, 31, 31, 33, 35, 30, 31, 35])\t[('XA', 'GL000217.1,-110724,76M,1;'), ('BD', 'NNNNNNNNNNNNNNNNNNNNNNNNNNNNNNNNNNNNNNNNNNNNNNNNNNNNNNNNNNNNNNNNNNNNNNNNNNNN'), ('MD', '76'), ('RG', '1'), ('BI', 'NNNNNNNNNNNNNNNNNNNNNNNNNNNNNNNNNNNNNNNNNNNNNNNNNNNNNNNNNNNNNNNNNNNNNNNNNNNN'), ('NM', 0), ('MQ', 27), ('AS', 76), ('XS', 71)]\n",
            "Read 7 flag: 99\n",
            "D0RH0ACXX120402:2:2211:20196:13130\t1123\t#20\t9483279\t27\t76M\t#20\t9483392\t189\tTGAACATATAAAAAAAAACCAGAATGTGCCATTCTGATTTAAACTGCTTATTAGTTAAAACCCTCAAGATAACATC\tarray('B', [31, 31, 27, 30, 34, 35, 31, 33, 30, 31, 36, 28, 36, 32, 36, 36, 36, 36, 40, 37, 34, 36, 34, 35, 31, 39, 31, 39, 40, 37, 35, 32, 34, 34, 36, 40, 31, 31, 34, 34, 31, 37, 37, 41, 36, 41, 39, 36, 34, 32, 31, 35, 32, 38, 31, 31, 31, 37, 37, 37, 37, 34, 37, 37, 38, 33, 35, 39, 32, 31, 31, 33, 33, 30, 31, 32])\t[('XA', 'GL000217.1,-110724,76M,1;'), ('BD', 'NNNNNNNNNNNNNNNNNNNNNNNNNNNNNNNNNNNNNNNNNNNNNNNNNNNNNNNNNNNNNNNNNNNNNNNNNNNN'), ('MD', '76'), ('RG', '1'), ('BI', 'NNNNNNNNNNNNNNNNNNNNNNNNNNNNNNNNNNNNNNNNNNNNNNNNNNNNNNNNNNNNNNNNNNNNNNNNNNNN'), ('NM', 0), ('MQ', 27), ('AS', 76), ('XS', 71)]\n",
            "Read 8 flag: 1123\n",
            "D0RE2ACXX120401:1:1201:14782:65302\t99\t#20\t9483280\t27\t76M\t#20\t9483401\t197\tGAACATATAAAAAAAAACCAGAATGTGCCATTCTGATTTAAACTGCTTATTAGTTAAAACCCTCAAGATAACATCT\tarray('B', [31, 31, 30, 33, 34, 31, 32, 31, 30, 36, 36, 36, 33, 36, 36, 36, 31, 34, 35, 34, 35, 33, 33, 32, 36, 22, 34, 38, 38, 32, 31, 34, 32, 35, 40, 33, 34, 34, 34, 30, 37, 35, 40, 34, 33, 40, 35, 34, 32, 31, 34, 32, 41, 32, 35, 32, 37, 37, 37, 39, 37, 37, 35, 38, 35, 37, 40, 32, 31, 31, 31, 37, 31, 29, 31, 33])\t[('XA', 'GL000217.1,-110723,76M,1;'), ('BD', 'NNNNNNNNNNNNNNNNNNNNNNNNNNNNNNNNNNNNNNNNNNNNNNNNNNNNNNNNNNNNNNNNNNNNNNNNNNNN'), ('MD', '76'), ('RG', '1'), ('BI', 'NNNNNNNNNNNNNNNNNNNNNNNNNNNNNNNNNNNNNNNNNNNNNNNNNNNNNNNNNNNNNNNNNNNNNNNNNNNN'), ('NM', 0), ('MQ', 27), ('AS', 76), ('XS', 71)]\n",
            "Read 9 flag: 99\n",
            "D0RE2ACXX120401:7:1304:12042:51117\t1123\t#20\t9483280\t27\t76M\t#20\t9483401\t197\tGAACATATAAAAAAAAACCAGAATGTGCCATTCTGATTTAAACTGCTTATTAGTTAAAACCCTCAAGATAACATCT\tarray('B', [32, 31, 30, 33, 34, 31, 32, 31, 31, 36, 36, 36, 36, 32, 35, 33, 36, 40, 35, 31, 40, 34, 36, 32, 40, 31, 41, 36, 36, 35, 32, 34, 41, 36, 41, 33, 33, 34, 35, 32, 37, 35, 40, 36, 41, 38, 36, 34, 32, 33, 34, 32, 41, 31, 31, 32, 37, 37, 37, 41, 38, 38, 37, 38, 35, 35, 40, 31, 32, 31, 36, 36, 32, 29, 32, 33])\t[('XA', 'GL000217.1,-110723,76M,1;'), ('BD', 'NNNNNNNNNNNNNNNNNNNNNNNNNNNNNNNNNNNNNNNNNNNNNNNNNNNNNNNNNNNNNNNNNNNNNNNNNNNN'), ('MD', '76'), ('RG', '1'), ('BI', 'NNNNNNNNNNNNNNNNNNNNNNNNNNNNNNNNNNNNNNNNNNNNNNNNNNNNNNNNNNNNNNNNNNNNNNNNNNNN'), ('NM', 0), ('MQ', 27), ('AS', 76), ('XS', 71)]\n",
            "Read 10 flag: 1123\n",
            "C0HVYACXX120402:1:2302:4890:173364\t99\t#20\t9483292\t27\t76M\t#20\t9483391\t175\tAAAAACCAGAATGTGCCATTCTGATTTAAACTGCTTATTAGTTAAAACCCTCAAGATAACATCTGGGTTCTTAGCT\tarray('B', [30, 32, 31, 33, 34, 35, 25, 32, 40, 34, 36, 32, 42, 31, 38, 35, 37, 31, 31, 34, 40, 34, 34, 28, 31, 31, 34, 32, 35, 34, 40, 36, 40, 39, 36, 34, 32, 32, 34, 30, 36, 31, 34, 29, 36, 35, 35, 40, 38, 37, 37, 41, 35, 37, 41, 35, 32, 31, 37, 40, 35, 31, 38, 35, 40, 37, 33, 32, 34, 40, 35, 34, 30, 31, 32, 33])\t[('XA', 'GL000217.1,-110711,76M,1;9,-69787843,4S66M6S,0;9,-70403796,4S66M6S,0;9,+42743104,6S66M4S,0;9,-70152865,4S66M6S,1;'), ('BD', 'NNNNNNNNNNNNNNNNNNNNNNNNNNNNNNNNNNNNNNNNNNNNNNNNNNNNNNNNNNNNNNNNNNNNNNNNNNNN'), ('MD', '76'), ('RG', '1'), ('BI', 'NNNNNNNNNNNNNNNNNNNNNNNNNNNNNNNNNNNNNNNNNNNNNNNNNNNNNNNNNNNNNNNNNNNNNNNNNNNN'), ('NM', 0), ('MQ', 27), ('AS', 76), ('XS', 71)]\n",
            "Read 11 flag: 99\n"
          ]
        }
      ]
    },
    {
      "cell_type": "markdown",
      "source": [
        "\n",
        "##The flag for the first read is 1187, which means that these bits are set:\n",
        "\n",
        "\n",
        "\n",
        "*   read paired (0x1)\n",
        "*   read mapped in proper pair (0x2)\n",
        "*   mate reverse strand (0x20)\n",
        "*   second in pair (0x80)\n",
        "*   read is PCR or optical duplicate (0x400)\n",
        "\n",
        "\n",
        "\n",
        "##The flag for the second read is 163, which means that these bits are set:\n",
        "\n",
        "*  read paired (0x1)\n",
        "*  read mapped in proper pair (0x2)\n",
        "*  mate reverse strand (0x20)\n",
        "*  second in pair (0x80)\n",
        "\n",
        "##The flag for the third read is 99, which means that these bits are set:\n",
        "*  read paired (0x1)\n",
        "*  read mapped in proper pair (0x2)\n",
        "*  mate reverse strand (0x20)\n",
        "*  first in pair (0x40)\n",
        "\n",
        "---\n",
        "\n"
      ],
      "metadata": {
        "id": "duoPv5RPTjSA"
      }
    },
    {
      "cell_type": "code",
      "source": [
        "samfile = pysam.AlignmentFile(\"merged-tumor.bam\", \"rb\")\n",
        "\n",
        "cnt_unmapped=0\n",
        "cnt=0\n",
        "cnt_mapping_quality_0=0\n",
        "quality_sum=0\n",
        "for read in samfile:\n",
        "    if read.is_unmapped:\n",
        "         cnt_unmapped += 1\n",
        "    if read.mapping_quality==0:\n",
        "         cnt_mapping_quality_0 += 1\n",
        "    quality_sum=quality_sum+read.mapping_quality\n",
        "    cnt += 1\n",
        "\n",
        "print('Number of unmapped reads:')\n",
        "print(cnt_unmapped)\n",
        "print('Total number of reads:')\n",
        "print(cnt)\n",
        "print('Number of reads with mapping quality 0:')\n",
        "print(cnt_mapping_quality_0)\n",
        "print('Average mapping quality for all the reads:')\n",
        "if cnt>0:\n",
        "  print(quality_sum/cnt)\n",
        "else:\n",
        "  print(0)\n",
        "print('Average mapping quality if reads with 0 mapp quality are filtered out:')\n",
        "if cnt!=cnt_mapping_quality_0:\n",
        "  print(quality_sum/(cnt-cnt_mapping_quality_0))\n",
        "else:\n",
        "  print(0)\n",
        "\n",
        "samfile.close()"
      ],
      "metadata": {
        "colab": {
          "base_uri": "https://localhost:8080/"
        },
        "id": "4SrQT-09Tydq",
        "outputId": "c40e7c21-f6a5-45da-ac34-2a5414054729"
      },
      "execution_count": 13,
      "outputs": [
        {
          "output_type": "stream",
          "name": "stdout",
          "text": [
            "Number of unmapped reads:\n",
            "17765\n",
            "Total number of reads:\n",
            "2921629\n",
            "Number of reads with mapping quality 0:\n",
            "126628\n",
            "Average mapping quality for all the reads:\n",
            "55.91379158681681\n",
            "Average mapping quality if reads with 0 mapp quality are filtered out:\n",
            "58.446975510921106\n"
          ]
        }
      ]
    }
  ]
}