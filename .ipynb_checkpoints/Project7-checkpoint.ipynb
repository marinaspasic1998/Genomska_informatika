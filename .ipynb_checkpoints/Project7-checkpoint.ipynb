{
 "cells": [
  {
   "cell_type": "code",
   "execution_count": 23,
   "id": "08fcfc73",
   "metadata": {},
   "outputs": [],
   "source": [
    "def rotations(t):\n",
    " ''' Return list of rotations of input string t '''\n",
    " tt = t * 2 #duplicate string\n",
    " return [ tt[i:i+len(t)] for i in range(0, len(t)) ]\n",
    "def bwm(t):\n",
    " ''' Return lexicographically sorted list of t’s rotations '''\n",
    " return sorted(rotations(t))\n",
    "def bwtViaBwm(t):\n",
    " ''' Given T, returns BWT(T) by way of the BWM '''\n",
    " return ''.join(map(lambda x: x[-1], bwm(t))) #takes last column\n"
   ]
  },
  {
   "cell_type": "code",
   "execution_count": 24,
   "id": "7b744b00",
   "metadata": {},
   "outputs": [
    {
     "data": {
      "text/plain": [
       "'abba$aa'"
      ]
     },
     "execution_count": 24,
     "metadata": {},
     "output_type": "execute_result"
    }
   ],
   "source": [
    "t = 'abaaba$'\n",
    "b = bwtViaBwm(t)\n",
    "b\n"
   ]
  },
  {
   "cell_type": "code",
   "execution_count": 25,
   "id": "ec343650",
   "metadata": {},
   "outputs": [],
   "source": [
    "def rankBwt(bw):\n",
    "     ''' Given BWT string bw, return parallel list of B-ranks. Also\n",
    "     returns tots: map from character to # times it appears. '''\n",
    "     tots = dict() #na kraju koliko ima ukupno kojih karaktera\n",
    "     ranks = [] #do tog trenutka, ne cuva karakter samo rank\n",
    "     for c in bw:\n",
    "         if c not in tots: tots[c] = 0\n",
    "         ranks.append(tots[c])\n",
    "         tots[c] += 1\n",
    "     return ranks, tots"
   ]
  },
  {
   "cell_type": "code",
   "execution_count": 26,
   "id": "65b91d0a",
   "metadata": {},
   "outputs": [
    {
     "name": "stdout",
     "output_type": "stream",
     "text": [
      "<zip object at 0x000002450EC5E780>\n",
      "[0, 0, 1, 1, 0, 2, 3]\n"
     ]
    }
   ],
   "source": [
    "ranks, tots = rankBwt(b)\n",
    "print(zip(b, ranks)) # print characters of BWT(T) in order, along with rank\n",
    "print(ranks)\n"
   ]
  },
  {
   "cell_type": "code",
   "execution_count": 48,
   "id": "d2069098",
   "metadata": {},
   "outputs": [],
   "source": [
    "def firstCol(tots):\n",
    "     ''' Return map from character to the range of rows prefixed by\n",
    "     the character. '''\n",
    "     first = {}\n",
    "     totc = 0\n",
    "     for c, count in sorted(tots.items()):\n",
    "         first[c] = totc #izmenila, bilo je(totc, totc + count), #c[char] je samo prvi indeks value-a od first[char] tj first[c][0] \n",
    "         totc += count\n",
    "     return first\n"
   ]
  },
  {
   "cell_type": "code",
   "execution_count": 49,
   "id": "6e2fdfd5",
   "metadata": {},
   "outputs": [
    {
     "data": {
      "text/plain": [
       "{'$': 0, 'a': 1, 'b': 5}"
      ]
     },
     "execution_count": 49,
     "metadata": {},
     "output_type": "execute_result"
    }
   ],
   "source": [
    "firstCol(tots) #dolar se nalazi u 0. vrsti, a od 1. do 4., b od 5. do 6.\n"
   ]
  },
  {
   "cell_type": "code",
   "execution_count": 29,
   "id": "136cfc07",
   "metadata": {},
   "outputs": [
    {
     "name": "stdout",
     "output_type": "stream",
     "text": [
      "$abaaba\n",
      "a$abaab\n",
      "aaba$ab\n",
      "aba$aba\n",
      "abaaba$\n",
      "ba$abaa\n",
      "baaba$a\n"
     ]
    }
   ],
   "source": [
    "# confirm that the representation of the first column above is sensible\n",
    "print('\\n'.join(bwm(t)))"
   ]
  },
  {
   "cell_type": "code",
   "execution_count": 50,
   "id": "ebab992e",
   "metadata": {},
   "outputs": [],
   "source": [
    "\n",
    "def reverseBwt(bw):\n",
    "     ''' Make T from BWT(T) '''\n",
    "     ranks, tots = rankBwt(bw)\n",
    "     first = firstCol(tots)\n",
    "     rowi = 0 # start in first row\n",
    "     t = '$' # start with rightmost character\n",
    "     while bw[rowi] != '$':\n",
    "         c = bw[rowi]\n",
    "         t = c + t # prepend to answer #dodajemo na pocetak stringa tako da ce vec biti reverse-ovan\n",
    "         # jump to row that starts with c of same rank\n",
    "         rowi = first[c] + ranks[rowi] #first[c]-odatle pocinju redovi sa kar. c, i dodamo rank kar. c u t\n",
    "     return t\n"
   ]
  },
  {
   "cell_type": "code",
   "execution_count": 51,
   "id": "a35a98d6",
   "metadata": {},
   "outputs": [
    {
     "data": {
      "text/plain": [
       "'abaaba$'"
      ]
     },
     "execution_count": 51,
     "metadata": {},
     "output_type": "execute_result"
    }
   ],
   "source": [
    "reverseBwt(b)\n"
   ]
  },
  {
   "cell_type": "code",
   "execution_count": 32,
   "id": "2177fc2e",
   "metadata": {},
   "outputs": [
    {
     "data": {
      "text/plain": [
       "'In_the_jingle_jangle_morning$'"
      ]
     },
     "execution_count": 32,
     "metadata": {},
     "output_type": "execute_result"
    }
   ],
   "source": [
    "reverseBwt(bwtViaBwm('In_the_jingle_jangle_morning$'))\n"
   ]
  },
  {
   "cell_type": "code",
   "execution_count": 129,
   "id": "1bb6d582",
   "metadata": {},
   "outputs": [],
   "source": [
    "#pravljenje BTW prek sufiksnog niza\n",
    "def suffixArray(s):\n",
    " \"\"\" Given T return suffix array SA(T). We use Python's sorted\n",
    " function here for simplicity, but we can do better. \"\"\"\n",
    " satups = sorted([(s[i:], i) for i in range(len(s))]) #uzmemo sve moguce sufikse i sortiramo, \n",
    "    #uz zadrzavanje inf o indeksu (i), tj poziciji stringa u tekstu\n",
    " # Extract and return just the offsets\n",
    "# print(satups)\n",
    " return map(lambda x: x[1], satups) #vraca samo indekse\n",
    "def bwtViaSa(t):\n",
    " \"\"\" Given T, returns BWT(T) by way of the suffix array. \"\"\"\n",
    " bw = []\n",
    " sa = suffixArray(t)\n",
    " for si in sa:\n",
    "     if si == 0: \n",
    "        bw.append('$')\n",
    "     else: \n",
    "        bw.append(t[si-1])\n",
    " return ''.join(bw)# return string-ized version of list bw and suffixarray"
   ]
  },
  {
   "cell_type": "code",
   "execution_count": 120,
   "id": "7b1c1c1e",
   "metadata": {},
   "outputs": [
    {
     "data": {
      "text/plain": [
       "[6, 5, 2, 3, 0, 4, 1]"
      ]
     },
     "execution_count": 120,
     "metadata": {},
     "output_type": "execute_result"
    }
   ],
   "source": [
    "list(suffixArray('ABAABA$'))\n"
   ]
  },
  {
   "cell_type": "code",
   "execution_count": 130,
   "id": "aa98e71c",
   "metadata": {},
   "outputs": [
    {
     "data": {
      "text/plain": [
       "'ABBA$AA'"
      ]
     },
     "execution_count": 130,
     "metadata": {},
     "output_type": "execute_result"
    }
   ],
   "source": [
    "bwtViaSa('ABAABA$')\n"
   ]
  },
  {
   "cell_type": "code",
   "execution_count": 72,
   "id": "ac3af4ab",
   "metadata": {},
   "outputs": [],
   "source": [
    "def lastCol(bw):\n",
    "    ranks,tots=rankBwt(bw)\n",
    "    return list(zip(ranks,bw))\n",
    "    "
   ]
  },
  {
   "cell_type": "code",
   "execution_count": 69,
   "id": "b7874a44",
   "metadata": {},
   "outputs": [
    {
     "data": {
      "text/plain": [
       "[(0, 'A'), (0, 'B'), (1, 'B'), (1, 'A'), (0, '$'), (2, 'A'), (3, 'A')]"
      ]
     },
     "execution_count": 69,
     "metadata": {},
     "output_type": "execute_result"
    }
   ],
   "source": [
    "lastCol('ABBA$AA')"
   ]
  },
  {
   "cell_type": "code",
   "execution_count": null,
   "id": "055e5397",
   "metadata": {},
   "outputs": [],
   "source": [
    "#FM\n"
   ]
  },
  {
   "cell_type": "code",
   "execution_count": 175,
   "id": "299a4b95",
   "metadata": {},
   "outputs": [],
   "source": [
    "def tallyFun(c,bw):\n",
    "    tally=dict()\n",
    "    tots=dict()\n",
    "    for char, row in c.items():\n",
    "        tots[char]=0\n",
    "        tally[char]={}\n",
    "        for row in range (len(bw)):\n",
    "            tally[char][row]=0\n",
    "    print(tots)\n",
    "    print(tally)\n",
    "    for row in range (len(bw)):\n",
    "        char = bw[row]\n",
    "        print(char)\n",
    "        tots[char] += 1 #prvo se inkrementira pa stavi!! nije kao rankovi\n",
    "        for char in c.keys():\n",
    "            tally[char][row]=tots[char]\n",
    "    return tally  "
   ]
  },
  {
   "cell_type": "code",
   "execution_count": 179,
   "id": "1a9fb3a4",
   "metadata": {},
   "outputs": [
    {
     "name": "stdout",
     "output_type": "stream",
     "text": [
      "[6, 5, 2, 3, 0, 4, 1]\n",
      "abba$aa\n",
      "{'a': 4, 'b': 2, '$': 1}\n",
      "{'$': 0, 'a': 1, 'b': 5}\n",
      "[(0, 'a'), (0, 'b'), (1, 'b'), (1, 'a'), (0, '$'), (2, 'a'), (3, 'a')]\n",
      "{'$': 0, 'a': 0, 'b': 0}\n",
      "{'$': {0: 0, 1: 0, 2: 0, 3: 0, 4: 0, 5: 0, 6: 0}, 'a': {0: 0, 1: 0, 2: 0, 3: 0, 4: 0, 5: 0, 6: 0}, 'b': {0: 0, 1: 0, 2: 0, 3: 0, 4: 0, 5: 0, 6: 0}}\n",
      "a\n",
      "b\n",
      "b\n",
      "a\n",
      "$\n",
      "a\n",
      "a\n",
      "{'$': {0: 0, 1: 0, 2: 0, 3: 0, 4: 1, 5: 1, 6: 1}, 'a': {0: 1, 1: 1, 2: 1, 3: 2, 4: 2, 5: 3, 6: 4}, 'b': {0: 0, 1: 1, 2: 2, 3: 2, 4: 2, 5: 2, 6: 2}}\n"
     ]
    }
   ],
   "source": [
    "\n",
    "text='abaaba$'\n",
    "#text='banana$'\n",
    "#text=reverseBwt('GGGGGGTCAA$TAA')\n",
    "bw=bwtViaSa(text)\n",
    "sa=list(suffixArray(text))\n",
    "print(sa)\n",
    "print(bw)\n",
    "ranks,tots=rankBwt(bw)\n",
    "print(tots)\n",
    "c=firstCol(tots)\n",
    "print(c)\n",
    "L=lastCol(bw)\n",
    "print(L)\n",
    "tally=tallyFun(c,bw)\n",
    "print(tally)"
   ]
  },
  {
   "cell_type": "code",
   "execution_count": 180,
   "id": "fb54a031",
   "metadata": {},
   "outputs": [
    {
     "name": "stdout",
     "output_type": "stream",
     "text": [
      "{'$': 0, 'a': 1, 'b': 5}\n",
      "{'$': {0: 0, 1: 0, 2: 0, 3: 0, 4: 1, 5: 1, 6: 1}, 'a': {0: 1, 1: 1, 2: 1, 3: 2, 4: 2, 5: 3, 6: 4}, 'b': {0: 0, 1: 1, 2: 2, 3: 2, 4: 2, 5: 2, 6: 2}}\n",
      "a\n",
      "1\n",
      "4\n",
      "ok\n",
      "b\n",
      "5\n",
      "6\n",
      "ok\n",
      "a\n",
      "3\n",
      "4\n",
      "ok\n",
      "3\n",
      "4\n",
      "[3, 0]\n"
     ]
    }
   ],
   "source": [
    "pattern='aba'\n",
    "#pattern='ana'\n",
    "#pattern='GAGA'\n",
    "\n",
    "\n",
    "start=1\n",
    "end=len(bw)-1\n",
    "print(c)\n",
    "print(tally)\n",
    "for i in reversed(range(len(pattern))): #od poslednjeg indeksa do prvog\n",
    "    char=pattern[i]\n",
    "    if i==(len(pattern)-1):\n",
    "        start = c[char]\n",
    "        takeNext=False\n",
    "        for j in c.keys():\n",
    "            if takeNext:\n",
    "                end=c[j]-1\n",
    "                break\n",
    "            if j==char:\n",
    "                takeNext=True\n",
    "            \n",
    "    else:\n",
    "        start=c[char]+tally[char][start-1]\n",
    "        end=c[char]+tally[char][end]-1\n",
    "    print(char)\n",
    "    print(start)\n",
    "    print(end)\n",
    "    print('ok')\n",
    "print(start)\n",
    "print(end)\n",
    "\n",
    "positions=[]\n",
    "for i in range(start,end+1): #+1 jer range ne includuje poslendji navedeni indeks\n",
    "    positions.append(sa[i])\n",
    "print(positions)"
   ]
  },
  {
   "cell_type": "code",
   "execution_count": 1,
   "id": "33d97bd7",
   "metadata": {},
   "outputs": [],
   "source": [
    "def scoringMatrix1(a, b): #razlika za transverziju i tranziciju\n",
    " if a == b: return 1\n",
    " if a == '_' or b == '_' : return -7\n",
    " maxb, minb = max(a, b), min(a, b)\n",
    " if minb == 'A' and maxb == 'G': return -1\n",
    " if minb == 'C' and maxb == 'T': return -1 #tranzicije\n",
    " return -2 #transverzija"
   ]
  },
  {
   "cell_type": "code",
   "execution_count": 2,
   "id": "df63ed6b",
   "metadata": {},
   "outputs": [],
   "source": [
    "def scoringMatrix(a,b): #bez razlike za tranziciju i transverziju\n",
    " if a==b: return 2 # match\n",
    " if a=='_' or b=='_': return -6 # indel\n",
    " return -4 # mismatch"
   ]
  },
  {
   "cell_type": "code",
   "execution_count": null,
   "id": "dd5200ef",
   "metadata": {},
   "outputs": [],
   "source": [
    "match=2\n",
    "gap=-6\n",
    "missmatch=-4"
   ]
  },
  {
   "cell_type": "code",
   "execution_count": 3,
   "id": "b4111968",
   "metadata": {},
   "outputs": [],
   "source": [
    "def scoringMatrix3(a, b, match, mismatch, gap):\n",
    " if a==b: return match# match\n",
    " if a=='_' or b=='_': return gap # indel\n",
    " return mismatch # mismatch"
   ]
  },
  {
   "cell_type": "code",
   "execution_count": 5,
   "id": "00c4769f",
   "metadata": {},
   "outputs": [],
   "source": [
    "import numpy\n",
    "def globalAlignment(x, y, s): #s je scoring matrica \n",
    "     D = numpy.zeros((len(x) + 1, len(y) + 1), dtype=int)\n",
    "\n",
    "     for i in range(1, len(x) + 1):\n",
    "         D[i,0] = D[i-1,0] + s(x[i-1], '_') \n",
    "     for j in range(1, len(y)+1):\n",
    "         D[0,j] = D[0,j-1] + s('_', y[j-1])\n",
    "\n",
    "     for i in range(1, len(x) + 1):\n",
    "         for j in range(1, len(y) + 1):\n",
    "             D[i,j] = max(D[i-1,j] + s(x[i-1], '_'),\n",
    "                         D[i,j-1] + s('_', y[j-1]),\n",
    "                         D[i-1,j-1] + s(x[i-1], y[j-1]))\n",
    "\n",
    "     # function returns table and global alignment score\n",
    "     #alignment score is in cell (n,m) of the matrix\n",
    "     return D, D[len(x),len(y)]"
   ]
  },
  {
   "cell_type": "code",
   "execution_count": null,
   "id": "8dac368d",
   "metadata": {},
   "outputs": [],
   "source": [
    "def traceback(x,y,V,s):\n",
    " \n",
    " # initializing starting position cell(n,m)\n",
    " i=len(x)\n",
    " j=len(y)\n",
    " \n",
    " # initializing strings we use to represent alignments in x, y, edit transcript and global alignment\n",
    " ax, ay, am, tr = '', '', '', ''\n",
    " \n",
    " # exit condition is when we reach cell (0,0)\n",
    " while i > 0 or j > 0:\n",
    " \n",
    " # calculating diagonal, horizontal and vertical scores for current cell\n",
    " d, v, h = -100, -100, -100\n",
    " \n",
    " if i > 0 and j > 0:\n",
    " delta = 1 if x[i-1] == y[j-1] else 0\n",
    " d = V[i-1,j-1] + s(x[i-1], y[j-1]) # diagonal movement \n",
    " if i > 0: v = V[i-1,j] + s(x[i-1], '_') # vertical movement\n",
    " if j > 0: h = V[i,j-1] + s('_', y[j-1]) # horizontal movement\n",
    " \n",
    " # backtracing to next (previous) cell\n",
    " if d >= v and d >= h:\n",
    " ax += x[i-1]\n",
    " ay += y[j-1]\n",
    " if delta == 1:\n",
    " tr += 'M'\n",
    " am += '|' #kao povezivanje dva stringa\n",
    " else:\n",
    " tr += 'R'\n",
    " am += ' '\n",
    " i -= 1\n",
    " j -= 1\n",
    " elif v >= h:\n",
    " ax += x[i-1]\n",
    " ay += '_'\n",
    " tr += 'D'\n",
    " am += ' '\n",
    " i -= 1\n",
    " else:\n",
    " ay += y[j-1]\n",
    " ax += '_'\n",
    " tr += 'I'\n",
    " am += ' '\n",
    " j -= 1\n",
    " \n",
    " alignment='\\n'.join([ax[::-1], am[::-1], ay[::-1]])\n",
    " return alignment, tr[::-1]"
   ]
  }
 ],
 "metadata": {
  "kernelspec": {
   "display_name": "Python 3 (ipykernel)",
   "language": "python",
   "name": "python3"
  },
  "language_info": {
   "codemirror_mode": {
    "name": "ipython",
    "version": 3
   },
   "file_extension": ".py",
   "mimetype": "text/x-python",
   "name": "python",
   "nbconvert_exporter": "python",
   "pygments_lexer": "ipython3",
   "version": "3.9.7"
  }
 },
 "nbformat": 4,
 "nbformat_minor": 5
}
