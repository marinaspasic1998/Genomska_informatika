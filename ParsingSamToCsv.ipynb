{
 "cells": [
  {
   "cell_type": "code",
   "execution_count": null,
   "metadata": {
    "id": "a6TdnkzKrVUa"
   },
   "outputs": [],
   "source": [
    "#Execute on Google colab\n",
    "\n",
    "import pysam\n",
    "import pandas as pd\n",
    "matchParameters = [1,2]\n",
    "mismatchParameters = [-3,-2]\n",
    "gapParameters = [-7,-5]\n",
    "for matchP in matchParameters:\n",
    "    for mismatchP in mismatchParameters:\n",
    "         for gapP in gapParameters:\n",
    "            samfile = pysam.AlignmentFile('output_' + 'M'+str(matchP) +'MM'+ str(mismatchP) +'G'+ str(gapP) + '.sam', \"rb\")\n",
    "            bestResults = []\n",
    "            for read in samfile:\n",
    "                bestResults.append((read.query_name,read.is_reverse,read.reference_start,read.mapping_quality,read.cigarstring))\n",
    "            df = pd.DataFrame(bestResults, columns =['read_id', 'is_reversed', 'position','alignment_score','transcript'])\n",
    "            df.to_csv('results\\bwamemtool\\output_' + 'M'+str(matchP) +'MM'+ str(mismatchP) +'G'+ str(gapP) + '.csv')\n",
    "            samfile.close()"
   ]
  }
 ],
 "metadata": {
  "colab": {
   "provenance": []
  },
  "kernelspec": {
   "display_name": "Python 3 (ipykernel)",
   "language": "python",
   "name": "python3"
  },
  "language_info": {
   "codemirror_mode": {
    "name": "ipython",
    "version": 3
   },
   "file_extension": ".py",
   "mimetype": "text/x-python",
   "name": "python",
   "nbconvert_exporter": "python",
   "pygments_lexer": "ipython3",
   "version": "3.9.7"
  }
 },
 "nbformat": 4,
 "nbformat_minor": 1
}
