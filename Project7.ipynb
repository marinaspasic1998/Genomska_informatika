{
 "cells": [
  {
   "cell_type": "code",
   "execution_count": 73,
   "id": "08fcfc73",
   "metadata": {},
   "outputs": [],
   "source": [
    "def rotations(t):\n",
    " ''' Return list of rotations of input string t '''\n",
    " tt = t * 2 #duplicate string\n",
    " return [ tt[i:i+len(t)] for i in range(0, len(t)) ]\n",
    "def bwm(t):\n",
    " ''' Return lexicographically sorted list of t’s rotations '''\n",
    " return sorted(rotations(t))\n",
    "def bwtViaBwm(t):\n",
    " ''' Given T, returns BWT(T) by way of the BWM '''\n",
    " return ''.join(map(lambda x: x[-1], bwm(t))) #takes last column\n"
   ]
  },
  {
   "cell_type": "code",
   "execution_count": 74,
   "id": "7b744b00",
   "metadata": {},
   "outputs": [
    {
     "data": {
      "text/plain": [
       "'abba$aa'"
      ]
     },
     "execution_count": 74,
     "metadata": {},
     "output_type": "execute_result"
    }
   ],
   "source": [
    "t = 'abaaba$'\n",
    "b = bwtViaBwm(t)\n",
    "b\n"
   ]
  },
  {
   "cell_type": "code",
   "execution_count": 75,
   "id": "ec343650",
   "metadata": {},
   "outputs": [],
   "source": [
    "def rankBwt(bw):\n",
    "     ''' Given BWT string bw, return parallel list of B-ranks. Also\n",
    "     returns tots: map from character to # times it appears. '''\n",
    "     tots = dict() #na kraju koliko ima ukupno kojih karaktera\n",
    "     ranks = [] #do tog trenutka, ne cuva karakter samo rank\n",
    "     for c in bw:\n",
    "         if c not in tots: tots[c] = 0\n",
    "         ranks.append(tots[c])\n",
    "         tots[c] += 1\n",
    "     return ranks, tots"
   ]
  },
  {
   "cell_type": "code",
   "execution_count": 76,
   "id": "65b91d0a",
   "metadata": {},
   "outputs": [
    {
     "name": "stdout",
     "output_type": "stream",
     "text": [
      "<zip object at 0x000001E0BB3F1DC0>\n",
      "[0, 0, 1, 1, 0, 2, 3]\n"
     ]
    }
   ],
   "source": [
    "ranks, tots = rankBwt(b)\n",
    "print(zip(b, ranks)) # print characters of BWT(T) in order, along with rank\n",
    "print(ranks)\n"
   ]
  },
  {
   "cell_type": "code",
   "execution_count": 77,
   "id": "d2069098",
   "metadata": {},
   "outputs": [],
   "source": [
    "def firstCol(tots):\n",
    "     ''' Return map from character to the range of rows prefixed by\n",
    "     the character. '''\n",
    "     first = {}\n",
    "     totc = 0\n",
    "     for c, count in sorted(tots.items()):\n",
    "         first[c] = totc #izmenila, bilo je(totc, totc + count), #c[char] je samo prvi indeks value-a od first[char] tj first[c][0] \n",
    "         totc += count\n",
    "     return first\n"
   ]
  },
  {
   "cell_type": "code",
   "execution_count": 78,
   "id": "6e2fdfd5",
   "metadata": {},
   "outputs": [
    {
     "data": {
      "text/plain": [
       "{'$': 0, 'a': 1, 'b': 5}"
      ]
     },
     "execution_count": 78,
     "metadata": {},
     "output_type": "execute_result"
    }
   ],
   "source": [
    "firstCol(tots) #dolar se nalazi u 0. vrsti, a od 1. do 4., b od 5. do 6.\n"
   ]
  },
  {
   "cell_type": "code",
   "execution_count": 79,
   "id": "136cfc07",
   "metadata": {},
   "outputs": [
    {
     "name": "stdout",
     "output_type": "stream",
     "text": [
      "$abaaba\n",
      "a$abaab\n",
      "aaba$ab\n",
      "aba$aba\n",
      "abaaba$\n",
      "ba$abaa\n",
      "baaba$a\n"
     ]
    }
   ],
   "source": [
    "# confirm that the representation of the first column above is sensible\n",
    "print('\\n'.join(bwm(t)))"
   ]
  },
  {
   "cell_type": "code",
   "execution_count": 80,
   "id": "ebab992e",
   "metadata": {},
   "outputs": [],
   "source": [
    "\n",
    "def reverseBwt(bw):\n",
    "     ''' Make T from BWT(T) '''\n",
    "     ranks, tots = rankBwt(bw)\n",
    "     first = firstCol(tots)\n",
    "     rowi = 0 # start in first row\n",
    "     t = '$' # start with rightmost character\n",
    "     while bw[rowi] != '$':\n",
    "         c = bw[rowi]\n",
    "         t = c + t # prepend to answer #dodajemo na pocetak stringa tako da ce vec biti reverse-ovan\n",
    "         # jump to row that starts with c of same rank\n",
    "         rowi = first[c] + ranks[rowi] #first[c]-odatle pocinju redovi sa kar. c, i dodamo rank kar. c u t\n",
    "     return t\n"
   ]
  },
  {
   "cell_type": "code",
   "execution_count": 81,
   "id": "a35a98d6",
   "metadata": {},
   "outputs": [
    {
     "data": {
      "text/plain": [
       "'abaaba$'"
      ]
     },
     "execution_count": 81,
     "metadata": {},
     "output_type": "execute_result"
    }
   ],
   "source": [
    "reverseBwt(b)\n"
   ]
  },
  {
   "cell_type": "code",
   "execution_count": 82,
   "id": "2177fc2e",
   "metadata": {},
   "outputs": [
    {
     "data": {
      "text/plain": [
       "'In_the_jingle_jangle_morning$'"
      ]
     },
     "execution_count": 82,
     "metadata": {},
     "output_type": "execute_result"
    }
   ],
   "source": [
    "reverseBwt(bwtViaBwm('In_the_jingle_jangle_morning$'))\n"
   ]
  },
  {
   "cell_type": "code",
   "execution_count": 83,
   "id": "1bb6d582",
   "metadata": {},
   "outputs": [],
   "source": [
    "#pravljenje BTW prek sufiksnog niza\n",
    "def suffixArray(s):\n",
    " \"\"\" Given T return suffix array SA(T). We use Python's sorted\n",
    " function here for simplicity, but we can do better. \"\"\"\n",
    " satups = sorted([(s[i:], i) for i in range(len(s))]) #uzmemo sve moguce sufikse i sortiramo, \n",
    "    #uz zadrzavanje inf o indeksu (i), tj poziciji stringa u tekstu\n",
    " # Extract and return just the offsets\n",
    "# print(satups)\n",
    " return map(lambda x: x[1], satups) #vraca samo indekse\n",
    "def bwtViaSa(t):\n",
    " \"\"\" Given T, returns BWT(T) by way of the suffix array. \"\"\"\n",
    " bw = []\n",
    " sa = suffixArray(t)\n",
    " for si in sa:\n",
    "     if si == 0: \n",
    "        bw.append('$')\n",
    "     else: \n",
    "        bw.append(t[si-1])\n",
    " return ''.join(bw)# return string-ized version of list bw and suffixarray"
   ]
  },
  {
   "cell_type": "code",
   "execution_count": 84,
   "id": "7b1c1c1e",
   "metadata": {},
   "outputs": [
    {
     "data": {
      "text/plain": [
       "[6, 5, 2, 3, 0, 4, 1]"
      ]
     },
     "execution_count": 84,
     "metadata": {},
     "output_type": "execute_result"
    }
   ],
   "source": [
    "list(suffixArray('ABAABA$'))\n"
   ]
  },
  {
   "cell_type": "code",
   "execution_count": 85,
   "id": "aa98e71c",
   "metadata": {},
   "outputs": [
    {
     "data": {
      "text/plain": [
       "'ABBA$AA'"
      ]
     },
     "execution_count": 85,
     "metadata": {},
     "output_type": "execute_result"
    }
   ],
   "source": [
    "bwtViaSa('ABAABA$')\n"
   ]
  },
  {
   "cell_type": "code",
   "execution_count": 86,
   "id": "ac3af4ab",
   "metadata": {},
   "outputs": [],
   "source": [
    "def lastCol(bw):\n",
    "    ranks,tots=rankBwt(bw)\n",
    "    return list(zip(ranks,bw))\n",
    "    "
   ]
  },
  {
   "cell_type": "code",
   "execution_count": 87,
   "id": "b7874a44",
   "metadata": {},
   "outputs": [
    {
     "data": {
      "text/plain": [
       "[(0, 'A'), (0, 'B'), (1, 'B'), (1, 'A'), (0, '$'), (2, 'A'), (3, 'A')]"
      ]
     },
     "execution_count": 87,
     "metadata": {},
     "output_type": "execute_result"
    }
   ],
   "source": [
    "lastCol('ABBA$AA')"
   ]
  },
  {
   "cell_type": "code",
   "execution_count": 88,
   "id": "055e5397",
   "metadata": {},
   "outputs": [],
   "source": [
    "#FM\n"
   ]
  },
  {
   "cell_type": "code",
   "execution_count": 89,
   "id": "299a4b95",
   "metadata": {},
   "outputs": [],
   "source": [
    "def tallyFun(c,bw):\n",
    "    tally=dict()\n",
    "    tots=dict()\n",
    "    for char, row in c.items():\n",
    "        tots[char]=0\n",
    "        tally[char]={}\n",
    "        for row in range (len(bw)):\n",
    "            tally[char][row]=0\n",
    "    print(tots)\n",
    "    print(tally)\n",
    "    for row in range (len(bw)):\n",
    "        char = bw[row]\n",
    "        print(char)\n",
    "        tots[char] += 1 #prvo se inkrementira pa stavi!! nije kao rankovi\n",
    "        for char in c.keys():\n",
    "            tally[char][row]=tots[char]\n",
    "    return tally  "
   ]
  },
  {
   "cell_type": "code",
   "execution_count": 176,
   "id": "1a9fb3a4",
   "metadata": {},
   "outputs": [],
   "source": [
    "def initFM(text):\n",
    "    bw=bwtViaSa(text)\n",
    "    sa=list(suffixArray(text))\n",
    "    ranks,tots=rankBwt(bw)\n",
    "    c=firstCol(tots)\n",
    "    L=lastCol(bw)\n",
    "    tally=tallyFun(c,bw)"
   ]
  },
  {
   "cell_type": "code",
   "execution_count": 174,
   "id": "fb54a031",
   "metadata": {},
   "outputs": [],
   "source": [
    "def findPattern(text,pattern):\n",
    "    #text='abaaba$'\n",
    "    #text='banana$'\n",
    "    #text=reverseBwt('GGGGGGTCAA$TAA')\n",
    "    #bw=bwtViaSa(text)\n",
    "    #sa=list(suffixArray(text))\n",
    "    #print(sa)\n",
    "    #print(bw)\n",
    "    #ranks,tots=rankBwt(bw)\n",
    "    #print(tots)\n",
    "    #c=firstCol(tots)\n",
    "    #print(c)\n",
    "    #L=lastCol(bw)\n",
    "    #print(L)\n",
    "    #tally=tallyFun(c,bw)\n",
    "    #print(tally)\n",
    "\n",
    "    #pattern='aba'\n",
    "    #pattern='ana'\n",
    "    #pattern='GAGA'\n",
    "\n",
    "\n",
    "    start=1\n",
    "    end=len(bw)-1\n",
    "    print(c)\n",
    "    print(tally)\n",
    "    for i in reversed(range(len(pattern))): #od poslednjeg indeksa do prvog\n",
    "        char=pattern[i]\n",
    "        if i==(len(pattern)-1):\n",
    "            start = c[char]\n",
    "            takeNext=False\n",
    "            for j in c.keys():\n",
    "                if takeNext:\n",
    "                    end=c[j]-1\n",
    "                    break\n",
    "                if j==char:\n",
    "                    takeNext=True       \n",
    "        else:\n",
    "            start=c[char]+tally[char][start-1]\n",
    "            end=c[char]+tally[char][end]-1\n",
    "        print(char)\n",
    "        print(start)\n",
    "        print(end)\n",
    "        print('ok')\n",
    "    print(start)\n",
    "    print(end)\n",
    "\n",
    "    positions=[]\n",
    "    for i in range(start,end+1): #+1 jer range ne includuje poslendji navedeni indeks\n",
    "        positions.append(sa[i])\n",
    "    print(positions)\n",
    "    return positions"
   ]
  },
  {
   "cell_type": "code",
   "execution_count": 93,
   "id": "1556e65a",
   "metadata": {},
   "outputs": [],
   "source": [
    "match=2\n",
    "gap=-6\n",
    "mismatch=-4"
   ]
  },
  {
   "cell_type": "code",
   "execution_count": 173,
   "id": "671e9795",
   "metadata": {},
   "outputs": [],
   "source": [
    "def initScoringMatrix(Match,Gap,Mismatch):\n",
    "    global match\n",
    "    global gap\n",
    "    global mismatch\n",
    "    match=Match\n",
    "    gap=Gap\n",
    "    mismatch=Mismatch"
   ]
  },
  {
   "cell_type": "code",
   "execution_count": 95,
   "id": "2795a176",
   "metadata": {},
   "outputs": [],
   "source": []
  },
  {
   "cell_type": "code",
   "execution_count": 172,
   "id": "67ec14e4",
   "metadata": {},
   "outputs": [],
   "source": [
    "def scoringMatrix(a, b):\n",
    " if a==b: return match# match\n",
    " if a=='_' or b=='_': return gap # indel\n",
    " return mismatch # mismatch"
   ]
  },
  {
   "cell_type": "code",
   "execution_count": 97,
   "id": "8eda79ee",
   "metadata": {},
   "outputs": [],
   "source": [
    "import numpy\n",
    "def globalAlignment(x, y, s): #s je scoring matrica \n",
    "     D = numpy.zeros((len(x) + 1, len(y) + 1), dtype=int)\n",
    "\n",
    "     for i in range(1, len(x) + 1):\n",
    "         D[i,0] = D[i-1,0] + s(x[i-1], '_') \n",
    "     for j in range(1, len(y)+1):\n",
    "         D[0,j] = D[0,j-1] + s('_', y[j-1])\n",
    "\n",
    "     for i in range(1, len(x) + 1):\n",
    "         for j in range(1, len(y) + 1):\n",
    "             D[i,j] = max(D[i-1,j] + s(x[i-1], '_'),\n",
    "                         D[i,j-1] + s('_', y[j-1]),\n",
    "                         D[i-1,j-1] + s(x[i-1], y[j-1]))\n",
    "\n",
    "     # function returns table and global alignment score\n",
    "     #alignment score is in cell (n,m) of the matrix\n",
    "     return D, D[len(x),len(y)]"
   ]
  },
  {
   "cell_type": "code",
   "execution_count": 98,
   "id": "e50bd1f1",
   "metadata": {},
   "outputs": [],
   "source": [
    "def traceback(x,y,V,s):\n",
    " \n",
    "     # initializing starting position cell(n,m)\n",
    "     i=len(x)\n",
    "     j=len(y)\n",
    "\n",
    "     # initializing strings we use to represent alignments in x, y, edit transcript and global alignment\n",
    "     ax, ay, am, tr = '', '', '', ''\n",
    "\n",
    "     # exit condition is when we reach cell (0,0)\n",
    "     while i > 0 or j > 0:\n",
    "\n",
    "         # calculating diagonal, horizontal and vertical scores for current cell\n",
    "         d, v, h = -100, -100, -100\n",
    "\n",
    "         if i > 0 and j > 0:\n",
    "             delta = 1 if x[i-1] == y[j-1] else 0\n",
    "             d = V[i-1,j-1] + s(x[i-1], y[j-1]) # diagonal movement \n",
    "         if i > 0: \n",
    "            v = V[i-1,j] + s(x[i-1], '_') # vertical movement\n",
    "         if j > 0: \n",
    "            h = V[i,j-1] + s('_', y[j-1]) # horizontal movement\n",
    "\n",
    "         # backtracing to next (previous) cell\n",
    "         if d >= v and d >= h:\n",
    "             ax += x[i-1]\n",
    "             ay += y[j-1]\n",
    "             if delta == 1:\n",
    "                 tr += 'M'\n",
    "                 am += '|' #kao povezivanje dva stringa\n",
    "             else:\n",
    "                 tr += 'R'\n",
    "                 am += ' '\n",
    "             i -= 1\n",
    "             j -= 1\n",
    "         elif v >= h: #delecija\n",
    "             ax += x[i-1]\n",
    "             ay += '_'\n",
    "             tr += 'D'\n",
    "             am += ' '\n",
    "             i -= 1\n",
    "         else: #insercija\n",
    "             ay += y[j-1]\n",
    "             ax += '_'\n",
    "             tr += 'I'\n",
    "             am += ' '\n",
    "             j -= 1\n",
    "\n",
    "     alignment='\\n'.join([ax[::-1], am[::-1], ay[::-1]])\n",
    "     return alignment, tr[::-1]"
   ]
  },
  {
   "cell_type": "code",
   "execution_count": 99,
   "id": "b40616a2",
   "metadata": {},
   "outputs": [],
   "source": [
    "x='TACGTCAGC'\n",
    "y='TATGTCATGC'\n",
    "D, alignmentScore = globalAlignment(x, y, scoringMatrix3)\n",
    "alignment, transcript = traceback(x, y, D, scoringMatrix3)\n"
   ]
  },
  {
   "cell_type": "code",
   "execution_count": 100,
   "id": "dd3e21aa",
   "metadata": {},
   "outputs": [
    {
     "name": "stdout",
     "output_type": "stream",
     "text": [
      "TACGTCA_GC\n",
      "|| |||| ||\n",
      "TATGTCATGC\n",
      "MMRMMMMIMM\n",
      "[[  0  -6 -12 -18 -24 -30 -36 -42 -48 -54 -60]\n",
      " [ -6   2  -4 -10 -16 -22 -28 -34 -40 -46 -52]\n",
      " [-12  -4   4  -2  -8 -14 -20 -26 -32 -38 -44]\n",
      " [-18 -10  -2   0  -6 -12 -12 -18 -24 -30 -36]\n",
      " [-24 -16  -8  -6   2  -4 -10 -16 -22 -22 -28]\n",
      " [-30 -22 -14  -6  -4   4  -2  -8 -14 -20 -26]\n",
      " [-36 -28 -20 -12 -10  -2   6   0  -6 -12 -18]\n",
      " [-42 -34 -26 -18 -16  -8   0   8   2  -4 -10]\n",
      " [-48 -40 -32 -24 -16 -14  -6   2   4   4  -2]\n",
      " [-54 -46 -38 -30 -22 -20 -12  -4  -2   0   6]]\n",
      "6\n"
     ]
    }
   ],
   "source": [
    "\n",
    "print(alignment)\n",
    "print(transcript)\n",
    "print(D)\n",
    "print(alignmentScore)"
   ]
  },
  {
   "cell_type": "code",
   "execution_count": 101,
   "id": "59a1209a",
   "metadata": {},
   "outputs": [],
   "source": []
  },
  {
   "cell_type": "code",
   "execution_count": 102,
   "id": "c7097296",
   "metadata": {},
   "outputs": [],
   "source": [
    "x='TACGTCAGC'\n",
    "y='TATGTCATGC'\n",
    "D, alignmentScore = globalAlignment(x, y, scoringMatrix)\n",
    "alignment, transcript = traceback(x, y, D, scoringMatrix)\n"
   ]
  },
  {
   "cell_type": "code",
   "execution_count": 103,
   "id": "9d4b9e89",
   "metadata": {},
   "outputs": [
    {
     "name": "stdout",
     "output_type": "stream",
     "text": [
      "TACGTCA_GC\n",
      "|| |||| ||\n",
      "TATGTCATGC\n",
      "MMRMMMMIMM\n",
      "[[  0  -7 -14 -21 -28 -35 -42 -49 -56 -63 -70]\n",
      " [ -7   0  -7 -14 -21 -28 -35 -42 -49 -56 -63]\n",
      " [-14  -7   0  -7 -14 -21 -28 -35 -42 -49 -56]\n",
      " [-21 -14  -7  -3 -10 -17 -21 -28 -35 -42 -49]\n",
      " [-28 -21 -14 -10  -3 -10 -17 -24 -31 -35 -42]\n",
      " [-35 -28 -21 -14 -10  -3 -10 -17 -24 -31 -38]\n",
      " [-42 -35 -28 -21 -17 -10  -3 -10 -17 -24 -31]\n",
      " [-49 -42 -35 -28 -24 -17 -10  -3 -10 -17 -24]\n",
      " [-56 -49 -42 -35 -28 -24 -17 -10  -6 -10 -17]\n",
      " [-63 -56 -49 -42 -35 -31 -24 -17 -13  -9 -10]]\n",
      "-10\n"
     ]
    }
   ],
   "source": [
    "\n",
    "print(alignment)\n",
    "print(transcript)\n",
    "print(D)\n",
    "print(alignmentScore)"
   ]
  },
  {
   "cell_type": "code",
   "execution_count": 104,
   "id": "5960838f",
   "metadata": {},
   "outputs": [],
   "source": [
    "#SEED AND EXTEND"
   ]
  },
  {
   "cell_type": "code",
   "execution_count": 105,
   "id": "f9ea9619",
   "metadata": {},
   "outputs": [],
   "source": [
    "def reverseComplement(read):\n",
    "    reversedRead = []\n",
    "    for i in reversed(range(len(p))):\n",
    "        if read[i] == 'C':\n",
    "            reversedRead.append('G')\n",
    "        elif read[i] == 'G':\n",
    "            reversedRead.append('C')\n",
    "        elif read[i] == 'A':\n",
    "            reversedRead.append('T')\n",
    "        elif read[i] == 'T':\n",
    "            reversedRead.append('A')\n",
    "    return reversedRead"
   ]
  },
  {
   "cell_type": "code",
   "execution_count": 121,
   "id": "a0e17865",
   "metadata": {},
   "outputs": [],
   "source": [
    "def seedExtend(referenceGenome, readId, isReverseComplement, read, seedLength, margin):\n",
    "    ''' referenceGenome, readId, read, seedLength, margin, aligner, fmIndex'''\n",
    "    results = []\n",
    "    seedPattern = read[0:seedLength]\n",
    "    seedPositions = findPattern(referenceGenome,seedPattern)\n",
    "    \n",
    "    i = 0\n",
    "    for position in seedPositions:\n",
    "        # print(position)\n",
    "        start = position + seedLength\n",
    "        end = start + len(read) - seedLength + margin # end is not counted in slicing\n",
    "        if end >= len(referenceGenome):\n",
    "            continue\n",
    "            \n",
    "        alignedRef = referenceGenome[start:end]\n",
    "        alignedRead = read[seedLength:]\n",
    "        \n",
    "        D, alignmentScore = globalAlignment(alignedRef, alignedRead, scoringMatrix)\n",
    "        alignment, transcript = traceback(alignedRef, alignedRead, D,scoringMatrix)\n",
    "        \n",
    "        # print('alignment completed for ' + str(i))\n",
    "        \n",
    "        i += 1\n",
    "        \n",
    "        results.append((readId, isReverseComplement, position, alignmentScore, transcript))\n",
    "    \n",
    "    # print('Completed')\n",
    "    results.sort(key=lambda x: x[3], reverse=True)\n",
    "    return results"
   ]
  },
  {
   "cell_type": "code",
   "execution_count": 127,
   "id": "30e43081",
   "metadata": {},
   "outputs": [
    {
     "name": "stdout",
     "output_type": "stream",
     "text": [
      "[24, 23, 20, 17, 14, 11, 8, 5, 2, 21, 18, 15, 12, 9, 6, 3, 0, 22, 19, 16, 13, 10, 7, 4, 1]\n",
      "abbbbbbbbaaaaaaa$aaaaaaaa\n",
      "{'a': 16, 'b': 8, '$': 1}\n",
      "{'$': 0, 'a': 1, 'b': 17}\n",
      "[(0, 'a'), (0, 'b'), (1, 'b'), (2, 'b'), (3, 'b'), (4, 'b'), (5, 'b'), (6, 'b'), (7, 'b'), (1, 'a'), (2, 'a'), (3, 'a'), (4, 'a'), (5, 'a'), (6, 'a'), (7, 'a'), (0, '$'), (8, 'a'), (9, 'a'), (10, 'a'), (11, 'a'), (12, 'a'), (13, 'a'), (14, 'a'), (15, 'a')]\n",
      "{'$': 0, 'a': 0, 'b': 0}\n",
      "{'$': {0: 0, 1: 0, 2: 0, 3: 0, 4: 0, 5: 0, 6: 0, 7: 0, 8: 0, 9: 0, 10: 0, 11: 0, 12: 0, 13: 0, 14: 0, 15: 0, 16: 0, 17: 0, 18: 0, 19: 0, 20: 0, 21: 0, 22: 0, 23: 0, 24: 0}, 'a': {0: 0, 1: 0, 2: 0, 3: 0, 4: 0, 5: 0, 6: 0, 7: 0, 8: 0, 9: 0, 10: 0, 11: 0, 12: 0, 13: 0, 14: 0, 15: 0, 16: 0, 17: 0, 18: 0, 19: 0, 20: 0, 21: 0, 22: 0, 23: 0, 24: 0}, 'b': {0: 0, 1: 0, 2: 0, 3: 0, 4: 0, 5: 0, 6: 0, 7: 0, 8: 0, 9: 0, 10: 0, 11: 0, 12: 0, 13: 0, 14: 0, 15: 0, 16: 0, 17: 0, 18: 0, 19: 0, 20: 0, 21: 0, 22: 0, 23: 0, 24: 0}}\n",
      "a\n",
      "b\n",
      "b\n",
      "b\n",
      "b\n",
      "b\n",
      "b\n",
      "b\n",
      "b\n",
      "a\n",
      "a\n",
      "a\n",
      "a\n",
      "a\n",
      "a\n",
      "a\n",
      "$\n",
      "a\n",
      "a\n",
      "a\n",
      "a\n",
      "a\n",
      "a\n",
      "a\n",
      "a\n",
      "{'$': {0: 0, 1: 0, 2: 0, 3: 0, 4: 0, 5: 0, 6: 0, 7: 0, 8: 0, 9: 0, 10: 0, 11: 0, 12: 0, 13: 0, 14: 0, 15: 0, 16: 1, 17: 1, 18: 1, 19: 1, 20: 1, 21: 1, 22: 1, 23: 1, 24: 1}, 'a': {0: 1, 1: 1, 2: 1, 3: 1, 4: 1, 5: 1, 6: 1, 7: 1, 8: 1, 9: 2, 10: 3, 11: 4, 12: 5, 13: 6, 14: 7, 15: 8, 16: 8, 17: 9, 18: 10, 19: 11, 20: 12, 21: 13, 22: 14, 23: 15, 24: 16}, 'b': {0: 0, 1: 1, 2: 2, 3: 3, 4: 4, 5: 5, 6: 6, 7: 7, 8: 8, 9: 8, 10: 8, 11: 8, 12: 8, 13: 8, 14: 8, 15: 8, 16: 8, 17: 8, 18: 8, 19: 8, 20: 8, 21: 8, 22: 8, 23: 8, 24: 8}}\n",
      "{'$': 0, 'a': 1, 'b': 17}\n",
      "{'$': {0: 0, 1: 0, 2: 0, 3: 0, 4: 0, 5: 0, 6: 0, 7: 0, 8: 0, 9: 0, 10: 0, 11: 0, 12: 0, 13: 0, 14: 0, 15: 0, 16: 1, 17: 1, 18: 1, 19: 1, 20: 1, 21: 1, 22: 1, 23: 1, 24: 1}, 'a': {0: 1, 1: 1, 2: 1, 3: 1, 4: 1, 5: 1, 6: 1, 7: 1, 8: 1, 9: 2, 10: 3, 11: 4, 12: 5, 13: 6, 14: 7, 15: 8, 16: 8, 17: 9, 18: 10, 19: 11, 20: 12, 21: 13, 22: 14, 23: 15, 24: 16}, 'b': {0: 0, 1: 1, 2: 2, 3: 3, 4: 4, 5: 5, 6: 6, 7: 7, 8: 8, 9: 8, 10: 8, 11: 8, 12: 8, 13: 8, 14: 8, 15: 8, 16: 8, 17: 8, 18: 8, 19: 8, 20: 8, 21: 8, 22: 8, 23: 8, 24: 8}}\n",
      "a\n",
      "1\n",
      "16\n",
      "ok\n",
      "b\n",
      "17\n",
      "24\n",
      "ok\n",
      "a\n",
      "9\n",
      "16\n",
      "ok\n",
      "9\n",
      "16\n",
      "[21, 18, 15, 12, 9, 6, 3, 0]\n"
     ]
    },
    {
     "data": {
      "text/plain": [
       "[(1, False, 3, -14, 'MMMMMMMMMMMMMMDDM'),\n",
       " (1, False, 0, -14, 'MMMMMMMMMMMMMMDDM')]"
      ]
     },
     "execution_count": 127,
     "metadata": {},
     "output_type": "execute_result"
    }
   ],
   "source": [
    "seedExtend('abaabaabaabaabaabaabaaba$',1,False,'abaabaabaabaabaabb',3,2)"
   ]
  },
  {
   "cell_type": "code",
   "execution_count": 128,
   "id": "18879128",
   "metadata": {},
   "outputs": [
    {
     "name": "stdout",
     "output_type": "stream",
     "text": [
      "Collecting biopython\n",
      "  Downloading biopython-1.81-cp39-cp39-win_amd64.whl (2.7 MB)\n",
      "Note: you may need to restart the kernel to use updated packages.\n"
     ]
    },
    {
     "name": "stderr",
     "output_type": "stream",
     "text": [
      "WARNING: You are using pip version 22.0.4; however, version 23.1.2 is available.\n",
      "You should consider upgrading via the 'C:\\Users\\Marina\\anaconda3\\python.exe -m pip install --upgrade pip' command.\n"
     ]
    },
    {
     "name": "stdout",
     "output_type": "stream",
     "text": [
      "Requirement already satisfied: numpy in c:\\users\\marina\\anaconda3\\lib\\site-packages (from biopython) (1.20.3)\n",
      "Installing collected packages: biopython\n",
      "Successfully installed biopython-1.81\n"
     ]
    }
   ],
   "source": [
    "pip install biopython"
   ]
  },
  {
   "cell_type": "code",
   "execution_count": 171,
   "id": "d6e745b3",
   "metadata": {},
   "outputs": [],
   "source": [
    "from Bio import SeqIO\n",
    "from Bio.Seq import Seq\n",
    "import os\n",
    "import pandas as pd\n"
   ]
  },
  {
   "cell_type": "code",
   "execution_count": 154,
   "id": "7751f4d0",
   "metadata": {},
   "outputs": [],
   "source": [
    "def parseFile(file_name):\n",
    "    \n",
    "    if not os.path.exists(file_name):\n",
    "        print('File not found')\n",
    "        \n",
    "    file_type = file_name[file_name.find('.')+1:]\n",
    "    \n",
    "    arr = []\n",
    "    for seq_record in SeqIO.parse(file_name, file_type):\n",
    "        #print(seq_record.id)\n",
    "        #print(repr(seq_record.seq))\n",
    "        #print(len(seq_record))\n",
    "        arr.append([seq_record.id,seq_record.seq])\n",
    "    return arr\n"
   ]
  },
  {
   "cell_type": "code",
   "execution_count": 179,
   "id": "8647ccea",
   "metadata": {},
   "outputs": [],
   "source": [
    "def main(match, mismatch, gap, seedLength, margin, fasta, fastq):\n",
    "    reference = parseFile(fasta)[0][1]\n",
    "    reads = parseFile(fastq)\n",
    "    #print(len(reads))\n",
    "    #print(reference)\n",
    "    #print(reads)\n",
    "    \n",
    "    initFM(reference)\n",
    "\n",
    "    initScoringMatrix(match, mismatch, gap) \n",
    "    \n",
    "    i = 1\n",
    "\n",
    "    step = 20\n",
    "    bestResults = []\n",
    "    for read in reads:\n",
    "        if i % step == 0:\n",
    "            print(\"Start datetime for read \")\n",
    "            print(datetime.now())\n",
    "\n",
    "        \n",
    "        results = seedExtend(referenceGenome, read[0], False, reverseRead, seedlength, margin)\n",
    "        if (len(results) > 0):\n",
    "            bestResults.append(results[0]) \n",
    "                    \n",
    "        \n",
    "        reverseRead = reverseComplement(read[1])\n",
    "        \n",
    "        results = seedExtend(referenceGenome, read[0], True, reverseRead, seedlength, margin)\n",
    "        if (len(results) > 0):\n",
    "            bestResults.append(results[0])\n",
    "            \n",
    "        \n",
    "        i += 1\n",
    "    \n",
    "    df = pd.DataFrame(bestResults, columns =['read_id', 'is_rev_comp', 'position','alignment_score','transcript'])\n",
    "    df.to_csv('results/results' + str(match) + str(mismatch) + str(gap) + '.csv')"
   ]
  },
  {
   "cell_type": "code",
   "execution_count": 180,
   "id": "3753da43",
   "metadata": {},
   "outputs": [
    {
     "ename": "KeyboardInterrupt",
     "evalue": "",
     "output_type": "error",
     "traceback": [
      "\u001b[1;31m---------------------------------------------------------------------------\u001b[0m",
      "\u001b[1;31mKeyboardInterrupt\u001b[0m                         Traceback (most recent call last)",
      "\u001b[1;32mC:\\Users\\Public\\Documents\\Wondershare\\CreatorTemp/ipykernel_3304/567000489.py\u001b[0m in \u001b[0;36m<module>\u001b[1;34m\u001b[0m\n\u001b[0;32m      7\u001b[0m     \u001b[1;32mfor\u001b[0m \u001b[0mmismatch\u001b[0m \u001b[1;32min\u001b[0m \u001b[0mrange\u001b[0m\u001b[1;33m(\u001b[0m\u001b[1;33m-\u001b[0m\u001b[1;36m3\u001b[0m\u001b[1;33m,\u001b[0m\u001b[1;33m-\u001b[0m\u001b[1;36m1\u001b[0m\u001b[1;33m)\u001b[0m\u001b[1;33m:\u001b[0m\u001b[1;33m\u001b[0m\u001b[1;33m\u001b[0m\u001b[0m\n\u001b[0;32m      8\u001b[0m          \u001b[1;32mfor\u001b[0m \u001b[0mgap\u001b[0m \u001b[1;32min\u001b[0m \u001b[0mrange\u001b[0m\u001b[1;33m(\u001b[0m\u001b[1;33m-\u001b[0m\u001b[1;36m7\u001b[0m\u001b[1;33m,\u001b[0m \u001b[1;33m-\u001b[0m\u001b[1;36m4\u001b[0m\u001b[1;33m)\u001b[0m\u001b[1;33m:\u001b[0m\u001b[1;33m\u001b[0m\u001b[1;33m\u001b[0m\u001b[0m\n\u001b[1;32m----> 9\u001b[1;33m                 \u001b[0mmain\u001b[0m\u001b[1;33m(\u001b[0m\u001b[0mmatch\u001b[0m\u001b[1;33m,\u001b[0m \u001b[0mmismatch\u001b[0m\u001b[1;33m,\u001b[0m \u001b[0mgap\u001b[0m\u001b[1;33m,\u001b[0m\u001b[0mseedLength\u001b[0m\u001b[1;33m,\u001b[0m\u001b[0mmargin\u001b[0m\u001b[1;33m,\u001b[0m\u001b[0mfasta\u001b[0m\u001b[1;33m,\u001b[0m\u001b[0mfastq\u001b[0m\u001b[1;33m)\u001b[0m\u001b[1;33m\u001b[0m\u001b[1;33m\u001b[0m\u001b[0m\n\u001b[0m",
      "\u001b[1;32mC:\\Users\\Public\\Documents\\Wondershare\\CreatorTemp/ipykernel_3304/280458632.py\u001b[0m in \u001b[0;36mmain\u001b[1;34m(match, mismatch, gap, seedLength, margin, fasta, fastq)\u001b[0m\n\u001b[0;32m      6\u001b[0m     \u001b[1;31m#print(reads)\u001b[0m\u001b[1;33m\u001b[0m\u001b[1;33m\u001b[0m\u001b[0m\n\u001b[0;32m      7\u001b[0m \u001b[1;33m\u001b[0m\u001b[0m\n\u001b[1;32m----> 8\u001b[1;33m     \u001b[0minitFM\u001b[0m\u001b[1;33m(\u001b[0m\u001b[0mreference\u001b[0m\u001b[1;33m)\u001b[0m\u001b[1;33m\u001b[0m\u001b[1;33m\u001b[0m\u001b[0m\n\u001b[0m\u001b[0;32m      9\u001b[0m \u001b[1;33m\u001b[0m\u001b[0m\n\u001b[0;32m     10\u001b[0m     \u001b[0minitScoringMatrix\u001b[0m\u001b[1;33m(\u001b[0m\u001b[0mmatch\u001b[0m\u001b[1;33m,\u001b[0m \u001b[0mmismatch\u001b[0m\u001b[1;33m,\u001b[0m \u001b[0mgap\u001b[0m\u001b[1;33m)\u001b[0m\u001b[1;33m\u001b[0m\u001b[1;33m\u001b[0m\u001b[0m\n",
      "\u001b[1;32mC:\\Users\\Public\\Documents\\Wondershare\\CreatorTemp/ipykernel_3304/97975338.py\u001b[0m in \u001b[0;36minitFM\u001b[1;34m(text)\u001b[0m\n\u001b[0;32m      1\u001b[0m \u001b[1;32mdef\u001b[0m \u001b[0minitFM\u001b[0m\u001b[1;33m(\u001b[0m\u001b[0mtext\u001b[0m\u001b[1;33m)\u001b[0m\u001b[1;33m:\u001b[0m\u001b[1;33m\u001b[0m\u001b[1;33m\u001b[0m\u001b[0m\n\u001b[1;32m----> 2\u001b[1;33m     \u001b[0mbw\u001b[0m\u001b[1;33m=\u001b[0m\u001b[0mbwtViaSa\u001b[0m\u001b[1;33m(\u001b[0m\u001b[0mtext\u001b[0m\u001b[1;33m)\u001b[0m\u001b[1;33m\u001b[0m\u001b[1;33m\u001b[0m\u001b[0m\n\u001b[0m\u001b[0;32m      3\u001b[0m     \u001b[0msa\u001b[0m\u001b[1;33m=\u001b[0m\u001b[0mlist\u001b[0m\u001b[1;33m(\u001b[0m\u001b[0msuffixArray\u001b[0m\u001b[1;33m(\u001b[0m\u001b[0mtext\u001b[0m\u001b[1;33m)\u001b[0m\u001b[1;33m)\u001b[0m\u001b[1;33m\u001b[0m\u001b[1;33m\u001b[0m\u001b[0m\n\u001b[0;32m      4\u001b[0m     \u001b[0mranks\u001b[0m\u001b[1;33m,\u001b[0m\u001b[0mtots\u001b[0m\u001b[1;33m=\u001b[0m\u001b[0mrankBwt\u001b[0m\u001b[1;33m(\u001b[0m\u001b[0mbw\u001b[0m\u001b[1;33m)\u001b[0m\u001b[1;33m\u001b[0m\u001b[1;33m\u001b[0m\u001b[0m\n\u001b[0;32m      5\u001b[0m     \u001b[0mc\u001b[0m\u001b[1;33m=\u001b[0m\u001b[0mfirstCol\u001b[0m\u001b[1;33m(\u001b[0m\u001b[0mtots\u001b[0m\u001b[1;33m)\u001b[0m\u001b[1;33m\u001b[0m\u001b[1;33m\u001b[0m\u001b[0m\n",
      "\u001b[1;32mC:\\Users\\Public\\Documents\\Wondershare\\CreatorTemp/ipykernel_3304/2986786623.py\u001b[0m in \u001b[0;36mbwtViaSa\u001b[1;34m(t)\u001b[0m\n\u001b[0;32m     11\u001b[0m  \u001b[1;34m\"\"\" Given T, returns BWT(T) by way of the suffix array. \"\"\"\u001b[0m\u001b[1;33m\u001b[0m\u001b[1;33m\u001b[0m\u001b[0m\n\u001b[0;32m     12\u001b[0m  \u001b[0mbw\u001b[0m \u001b[1;33m=\u001b[0m \u001b[1;33m[\u001b[0m\u001b[1;33m]\u001b[0m\u001b[1;33m\u001b[0m\u001b[1;33m\u001b[0m\u001b[0m\n\u001b[1;32m---> 13\u001b[1;33m  \u001b[0msa\u001b[0m \u001b[1;33m=\u001b[0m \u001b[0msuffixArray\u001b[0m\u001b[1;33m(\u001b[0m\u001b[0mt\u001b[0m\u001b[1;33m)\u001b[0m\u001b[1;33m\u001b[0m\u001b[1;33m\u001b[0m\u001b[0m\n\u001b[0m\u001b[0;32m     14\u001b[0m  \u001b[1;32mfor\u001b[0m \u001b[0msi\u001b[0m \u001b[1;32min\u001b[0m \u001b[0msa\u001b[0m\u001b[1;33m:\u001b[0m\u001b[1;33m\u001b[0m\u001b[1;33m\u001b[0m\u001b[0m\n\u001b[0;32m     15\u001b[0m      \u001b[1;32mif\u001b[0m \u001b[0msi\u001b[0m \u001b[1;33m==\u001b[0m \u001b[1;36m0\u001b[0m\u001b[1;33m:\u001b[0m\u001b[1;33m\u001b[0m\u001b[1;33m\u001b[0m\u001b[0m\n",
      "\u001b[1;32mC:\\Users\\Public\\Documents\\Wondershare\\CreatorTemp/ipykernel_3304/2986786623.py\u001b[0m in \u001b[0;36msuffixArray\u001b[1;34m(s)\u001b[0m\n\u001b[0;32m      3\u001b[0m  \"\"\" Given T return suffix array SA(T). We use Python's sorted\n\u001b[0;32m      4\u001b[0m  function here for simplicity, but we can do better. \"\"\"\n\u001b[1;32m----> 5\u001b[1;33m  \u001b[0msatups\u001b[0m \u001b[1;33m=\u001b[0m \u001b[0msorted\u001b[0m\u001b[1;33m(\u001b[0m\u001b[1;33m[\u001b[0m\u001b[1;33m(\u001b[0m\u001b[0ms\u001b[0m\u001b[1;33m[\u001b[0m\u001b[0mi\u001b[0m\u001b[1;33m:\u001b[0m\u001b[1;33m]\u001b[0m\u001b[1;33m,\u001b[0m \u001b[0mi\u001b[0m\u001b[1;33m)\u001b[0m \u001b[1;32mfor\u001b[0m \u001b[0mi\u001b[0m \u001b[1;32min\u001b[0m \u001b[0mrange\u001b[0m\u001b[1;33m(\u001b[0m\u001b[0mlen\u001b[0m\u001b[1;33m(\u001b[0m\u001b[0ms\u001b[0m\u001b[1;33m)\u001b[0m\u001b[1;33m)\u001b[0m\u001b[1;33m]\u001b[0m\u001b[1;33m)\u001b[0m \u001b[1;31m#uzmemo sve moguce sufikse i sortiramo,\u001b[0m\u001b[1;33m\u001b[0m\u001b[1;33m\u001b[0m\u001b[0m\n\u001b[0m\u001b[0;32m      6\u001b[0m     \u001b[1;31m#uz zadrzavanje inf o indeksu (i), tj poziciji stringa u tekstu\u001b[0m\u001b[1;33m\u001b[0m\u001b[1;33m\u001b[0m\u001b[0m\n\u001b[0;32m      7\u001b[0m  \u001b[1;31m# Extract and return just the offsets\u001b[0m\u001b[1;33m\u001b[0m\u001b[1;33m\u001b[0m\u001b[0m\n",
      "\u001b[1;32mC:\\Users\\Public\\Documents\\Wondershare\\CreatorTemp/ipykernel_3304/2986786623.py\u001b[0m in \u001b[0;36m<listcomp>\u001b[1;34m(.0)\u001b[0m\n\u001b[0;32m      3\u001b[0m  \"\"\" Given T return suffix array SA(T). We use Python's sorted\n\u001b[0;32m      4\u001b[0m  function here for simplicity, but we can do better. \"\"\"\n\u001b[1;32m----> 5\u001b[1;33m  \u001b[0msatups\u001b[0m \u001b[1;33m=\u001b[0m \u001b[0msorted\u001b[0m\u001b[1;33m(\u001b[0m\u001b[1;33m[\u001b[0m\u001b[1;33m(\u001b[0m\u001b[0ms\u001b[0m\u001b[1;33m[\u001b[0m\u001b[0mi\u001b[0m\u001b[1;33m:\u001b[0m\u001b[1;33m]\u001b[0m\u001b[1;33m,\u001b[0m \u001b[0mi\u001b[0m\u001b[1;33m)\u001b[0m \u001b[1;32mfor\u001b[0m \u001b[0mi\u001b[0m \u001b[1;32min\u001b[0m \u001b[0mrange\u001b[0m\u001b[1;33m(\u001b[0m\u001b[0mlen\u001b[0m\u001b[1;33m(\u001b[0m\u001b[0ms\u001b[0m\u001b[1;33m)\u001b[0m\u001b[1;33m)\u001b[0m\u001b[1;33m]\u001b[0m\u001b[1;33m)\u001b[0m \u001b[1;31m#uzmemo sve moguce sufikse i sortiramo,\u001b[0m\u001b[1;33m\u001b[0m\u001b[1;33m\u001b[0m\u001b[0m\n\u001b[0m\u001b[0;32m      6\u001b[0m     \u001b[1;31m#uz zadrzavanje inf o indeksu (i), tj poziciji stringa u tekstu\u001b[0m\u001b[1;33m\u001b[0m\u001b[1;33m\u001b[0m\u001b[0m\n\u001b[0;32m      7\u001b[0m  \u001b[1;31m# Extract and return just the offsets\u001b[0m\u001b[1;33m\u001b[0m\u001b[1;33m\u001b[0m\u001b[0m\n",
      "\u001b[1;32m~\\anaconda3\\lib\\site-packages\\Bio\\Seq.py\u001b[0m in \u001b[0;36m__getitem__\u001b[1;34m(self, index)\u001b[0m\n\u001b[0;32m    491\u001b[0m         \u001b[1;32melse\u001b[0m\u001b[1;33m:\u001b[0m\u001b[1;33m\u001b[0m\u001b[1;33m\u001b[0m\u001b[0m\n\u001b[0;32m    492\u001b[0m             \u001b[1;31m# Return the (sub)sequence as another Seq/MutableSeq object\u001b[0m\u001b[1;33m\u001b[0m\u001b[1;33m\u001b[0m\u001b[0m\n\u001b[1;32m--> 493\u001b[1;33m             \u001b[1;32mreturn\u001b[0m \u001b[0mself\u001b[0m\u001b[1;33m.\u001b[0m\u001b[0m__class__\u001b[0m\u001b[1;33m(\u001b[0m\u001b[0mself\u001b[0m\u001b[1;33m.\u001b[0m\u001b[0m_data\u001b[0m\u001b[1;33m[\u001b[0m\u001b[0mindex\u001b[0m\u001b[1;33m]\u001b[0m\u001b[1;33m)\u001b[0m\u001b[1;33m\u001b[0m\u001b[1;33m\u001b[0m\u001b[0m\n\u001b[0m\u001b[0;32m    494\u001b[0m \u001b[1;33m\u001b[0m\u001b[0m\n\u001b[0;32m    495\u001b[0m     \u001b[1;32mdef\u001b[0m \u001b[0m__add__\u001b[0m\u001b[1;33m(\u001b[0m\u001b[0mself\u001b[0m\u001b[1;33m,\u001b[0m \u001b[0mother\u001b[0m\u001b[1;33m)\u001b[0m\u001b[1;33m:\u001b[0m\u001b[1;33m\u001b[0m\u001b[1;33m\u001b[0m\u001b[0m\n",
      "\u001b[1;32m~\\anaconda3\\lib\\site-packages\\Bio\\Seq.py\u001b[0m in \u001b[0;36m__init__\u001b[1;34m(self, data, length)\u001b[0m\n\u001b[0;32m   1959\u001b[0m     \"\"\"\n\u001b[0;32m   1960\u001b[0m \u001b[1;33m\u001b[0m\u001b[0m\n\u001b[1;32m-> 1961\u001b[1;33m     \u001b[1;32mdef\u001b[0m \u001b[0m__init__\u001b[0m\u001b[1;33m(\u001b[0m\u001b[0mself\u001b[0m\u001b[1;33m,\u001b[0m \u001b[0mdata\u001b[0m\u001b[1;33m,\u001b[0m \u001b[0mlength\u001b[0m\u001b[1;33m=\u001b[0m\u001b[1;32mNone\u001b[0m\u001b[1;33m)\u001b[0m\u001b[1;33m:\u001b[0m\u001b[1;33m\u001b[0m\u001b[1;33m\u001b[0m\u001b[0m\n\u001b[0m\u001b[0;32m   1962\u001b[0m         \"\"\"Create a Seq object.\n\u001b[0;32m   1963\u001b[0m \u001b[1;33m\u001b[0m\u001b[0m\n",
      "\u001b[1;31mKeyboardInterrupt\u001b[0m: "
     ]
    }
   ],
   "source": [
    "fasta = 'reference.fasta'\n",
    "fastq = 'reads.fastq'\n",
    "\n",
    "seedLength = 10\n",
    "margin = 2\n",
    "    \n",
    "for match in range(1,3):\n",
    "    for mismatch in range(-3,-1):\n",
    "         for gap in range(-7, -4):\n",
    "                main(match, mismatch, gap,seedLength,margin,fasta,fastq)"
   ]
  },
  {
   "cell_type": "code",
   "execution_count": 181,
   "id": "2a3e17dc",
   "metadata": {},
   "outputs": [
    {
     "ename": "MemoryError",
     "evalue": "",
     "output_type": "error",
     "traceback": [
      "\u001b[1;31m---------------------------------------------------------------------------\u001b[0m",
      "\u001b[1;31mMemoryError\u001b[0m                               Traceback (most recent call last)",
      "\u001b[1;32mC:\\Users\\Public\\Documents\\Wondershare\\CreatorTemp/ipykernel_3304/3073609316.py\u001b[0m in \u001b[0;36m<module>\u001b[1;34m\u001b[0m\n\u001b[0;32m      3\u001b[0m \u001b[0mseedLength\u001b[0m \u001b[1;33m=\u001b[0m \u001b[1;36m10\u001b[0m\u001b[1;33m\u001b[0m\u001b[1;33m\u001b[0m\u001b[0m\n\u001b[0;32m      4\u001b[0m \u001b[0mmargin\u001b[0m \u001b[1;33m=\u001b[0m \u001b[1;36m2\u001b[0m\u001b[1;33m\u001b[0m\u001b[1;33m\u001b[0m\u001b[0m\n\u001b[1;32m----> 5\u001b[1;33m \u001b[0mmain\u001b[0m\u001b[1;33m(\u001b[0m\u001b[1;36m1\u001b[0m\u001b[1;33m,\u001b[0m \u001b[1;33m-\u001b[0m\u001b[1;36m3\u001b[0m\u001b[1;33m,\u001b[0m \u001b[1;33m-\u001b[0m\u001b[1;36m7\u001b[0m\u001b[1;33m,\u001b[0m\u001b[0mseedLength\u001b[0m\u001b[1;33m,\u001b[0m\u001b[0mmargin\u001b[0m\u001b[1;33m,\u001b[0m\u001b[0mfasta\u001b[0m\u001b[1;33m,\u001b[0m\u001b[0mfastq\u001b[0m\u001b[1;33m)\u001b[0m\u001b[1;33m\u001b[0m\u001b[1;33m\u001b[0m\u001b[0m\n\u001b[0m",
      "\u001b[1;32mC:\\Users\\Public\\Documents\\Wondershare\\CreatorTemp/ipykernel_3304/280458632.py\u001b[0m in \u001b[0;36mmain\u001b[1;34m(match, mismatch, gap, seedLength, margin, fasta, fastq)\u001b[0m\n\u001b[0;32m      6\u001b[0m     \u001b[1;31m#print(reads)\u001b[0m\u001b[1;33m\u001b[0m\u001b[1;33m\u001b[0m\u001b[0m\n\u001b[0;32m      7\u001b[0m \u001b[1;33m\u001b[0m\u001b[0m\n\u001b[1;32m----> 8\u001b[1;33m     \u001b[0minitFM\u001b[0m\u001b[1;33m(\u001b[0m\u001b[0mreference\u001b[0m\u001b[1;33m)\u001b[0m\u001b[1;33m\u001b[0m\u001b[1;33m\u001b[0m\u001b[0m\n\u001b[0m\u001b[0;32m      9\u001b[0m \u001b[1;33m\u001b[0m\u001b[0m\n\u001b[0;32m     10\u001b[0m     \u001b[0minitScoringMatrix\u001b[0m\u001b[1;33m(\u001b[0m\u001b[0mmatch\u001b[0m\u001b[1;33m,\u001b[0m \u001b[0mmismatch\u001b[0m\u001b[1;33m,\u001b[0m \u001b[0mgap\u001b[0m\u001b[1;33m)\u001b[0m\u001b[1;33m\u001b[0m\u001b[1;33m\u001b[0m\u001b[0m\n",
      "\u001b[1;32mC:\\Users\\Public\\Documents\\Wondershare\\CreatorTemp/ipykernel_3304/97975338.py\u001b[0m in \u001b[0;36minitFM\u001b[1;34m(text)\u001b[0m\n\u001b[0;32m      1\u001b[0m \u001b[1;32mdef\u001b[0m \u001b[0minitFM\u001b[0m\u001b[1;33m(\u001b[0m\u001b[0mtext\u001b[0m\u001b[1;33m)\u001b[0m\u001b[1;33m:\u001b[0m\u001b[1;33m\u001b[0m\u001b[1;33m\u001b[0m\u001b[0m\n\u001b[1;32m----> 2\u001b[1;33m     \u001b[0mbw\u001b[0m\u001b[1;33m=\u001b[0m\u001b[0mbwtViaSa\u001b[0m\u001b[1;33m(\u001b[0m\u001b[0mtext\u001b[0m\u001b[1;33m)\u001b[0m\u001b[1;33m\u001b[0m\u001b[1;33m\u001b[0m\u001b[0m\n\u001b[0m\u001b[0;32m      3\u001b[0m     \u001b[0msa\u001b[0m\u001b[1;33m=\u001b[0m\u001b[0mlist\u001b[0m\u001b[1;33m(\u001b[0m\u001b[0msuffixArray\u001b[0m\u001b[1;33m(\u001b[0m\u001b[0mtext\u001b[0m\u001b[1;33m)\u001b[0m\u001b[1;33m)\u001b[0m\u001b[1;33m\u001b[0m\u001b[1;33m\u001b[0m\u001b[0m\n\u001b[0;32m      4\u001b[0m     \u001b[0mranks\u001b[0m\u001b[1;33m,\u001b[0m\u001b[0mtots\u001b[0m\u001b[1;33m=\u001b[0m\u001b[0mrankBwt\u001b[0m\u001b[1;33m(\u001b[0m\u001b[0mbw\u001b[0m\u001b[1;33m)\u001b[0m\u001b[1;33m\u001b[0m\u001b[1;33m\u001b[0m\u001b[0m\n\u001b[0;32m      5\u001b[0m     \u001b[0mc\u001b[0m\u001b[1;33m=\u001b[0m\u001b[0mfirstCol\u001b[0m\u001b[1;33m(\u001b[0m\u001b[0mtots\u001b[0m\u001b[1;33m)\u001b[0m\u001b[1;33m\u001b[0m\u001b[1;33m\u001b[0m\u001b[0m\n",
      "\u001b[1;32mC:\\Users\\Public\\Documents\\Wondershare\\CreatorTemp/ipykernel_3304/2986786623.py\u001b[0m in \u001b[0;36mbwtViaSa\u001b[1;34m(t)\u001b[0m\n\u001b[0;32m     11\u001b[0m  \u001b[1;34m\"\"\" Given T, returns BWT(T) by way of the suffix array. \"\"\"\u001b[0m\u001b[1;33m\u001b[0m\u001b[1;33m\u001b[0m\u001b[0m\n\u001b[0;32m     12\u001b[0m  \u001b[0mbw\u001b[0m \u001b[1;33m=\u001b[0m \u001b[1;33m[\u001b[0m\u001b[1;33m]\u001b[0m\u001b[1;33m\u001b[0m\u001b[1;33m\u001b[0m\u001b[0m\n\u001b[1;32m---> 13\u001b[1;33m  \u001b[0msa\u001b[0m \u001b[1;33m=\u001b[0m \u001b[0msuffixArray\u001b[0m\u001b[1;33m(\u001b[0m\u001b[0mt\u001b[0m\u001b[1;33m)\u001b[0m\u001b[1;33m\u001b[0m\u001b[1;33m\u001b[0m\u001b[0m\n\u001b[0m\u001b[0;32m     14\u001b[0m  \u001b[1;32mfor\u001b[0m \u001b[0msi\u001b[0m \u001b[1;32min\u001b[0m \u001b[0msa\u001b[0m\u001b[1;33m:\u001b[0m\u001b[1;33m\u001b[0m\u001b[1;33m\u001b[0m\u001b[0m\n\u001b[0;32m     15\u001b[0m      \u001b[1;32mif\u001b[0m \u001b[0msi\u001b[0m \u001b[1;33m==\u001b[0m \u001b[1;36m0\u001b[0m\u001b[1;33m:\u001b[0m\u001b[1;33m\u001b[0m\u001b[1;33m\u001b[0m\u001b[0m\n",
      "\u001b[1;32mC:\\Users\\Public\\Documents\\Wondershare\\CreatorTemp/ipykernel_3304/2986786623.py\u001b[0m in \u001b[0;36msuffixArray\u001b[1;34m(s)\u001b[0m\n\u001b[0;32m      3\u001b[0m  \"\"\" Given T return suffix array SA(T). We use Python's sorted\n\u001b[0;32m      4\u001b[0m  function here for simplicity, but we can do better. \"\"\"\n\u001b[1;32m----> 5\u001b[1;33m  \u001b[0msatups\u001b[0m \u001b[1;33m=\u001b[0m \u001b[0msorted\u001b[0m\u001b[1;33m(\u001b[0m\u001b[1;33m[\u001b[0m\u001b[1;33m(\u001b[0m\u001b[0ms\u001b[0m\u001b[1;33m[\u001b[0m\u001b[0mi\u001b[0m\u001b[1;33m:\u001b[0m\u001b[1;33m]\u001b[0m\u001b[1;33m,\u001b[0m \u001b[0mi\u001b[0m\u001b[1;33m)\u001b[0m \u001b[1;32mfor\u001b[0m \u001b[0mi\u001b[0m \u001b[1;32min\u001b[0m \u001b[0mrange\u001b[0m\u001b[1;33m(\u001b[0m\u001b[0mlen\u001b[0m\u001b[1;33m(\u001b[0m\u001b[0ms\u001b[0m\u001b[1;33m)\u001b[0m\u001b[1;33m)\u001b[0m\u001b[1;33m]\u001b[0m\u001b[1;33m)\u001b[0m \u001b[1;31m#uzmemo sve moguce sufikse i sortiramo,\u001b[0m\u001b[1;33m\u001b[0m\u001b[1;33m\u001b[0m\u001b[0m\n\u001b[0m\u001b[0;32m      6\u001b[0m     \u001b[1;31m#uz zadrzavanje inf o indeksu (i), tj poziciji stringa u tekstu\u001b[0m\u001b[1;33m\u001b[0m\u001b[1;33m\u001b[0m\u001b[0m\n\u001b[0;32m      7\u001b[0m  \u001b[1;31m# Extract and return just the offsets\u001b[0m\u001b[1;33m\u001b[0m\u001b[1;33m\u001b[0m\u001b[0m\n",
      "\u001b[1;32mC:\\Users\\Public\\Documents\\Wondershare\\CreatorTemp/ipykernel_3304/2986786623.py\u001b[0m in \u001b[0;36m<listcomp>\u001b[1;34m(.0)\u001b[0m\n\u001b[0;32m      3\u001b[0m  \"\"\" Given T return suffix array SA(T). We use Python's sorted\n\u001b[0;32m      4\u001b[0m  function here for simplicity, but we can do better. \"\"\"\n\u001b[1;32m----> 5\u001b[1;33m  \u001b[0msatups\u001b[0m \u001b[1;33m=\u001b[0m \u001b[0msorted\u001b[0m\u001b[1;33m(\u001b[0m\u001b[1;33m[\u001b[0m\u001b[1;33m(\u001b[0m\u001b[0ms\u001b[0m\u001b[1;33m[\u001b[0m\u001b[0mi\u001b[0m\u001b[1;33m:\u001b[0m\u001b[1;33m]\u001b[0m\u001b[1;33m,\u001b[0m \u001b[0mi\u001b[0m\u001b[1;33m)\u001b[0m \u001b[1;32mfor\u001b[0m \u001b[0mi\u001b[0m \u001b[1;32min\u001b[0m \u001b[0mrange\u001b[0m\u001b[1;33m(\u001b[0m\u001b[0mlen\u001b[0m\u001b[1;33m(\u001b[0m\u001b[0ms\u001b[0m\u001b[1;33m)\u001b[0m\u001b[1;33m)\u001b[0m\u001b[1;33m]\u001b[0m\u001b[1;33m)\u001b[0m \u001b[1;31m#uzmemo sve moguce sufikse i sortiramo,\u001b[0m\u001b[1;33m\u001b[0m\u001b[1;33m\u001b[0m\u001b[0m\n\u001b[0m\u001b[0;32m      6\u001b[0m     \u001b[1;31m#uz zadrzavanje inf o indeksu (i), tj poziciji stringa u tekstu\u001b[0m\u001b[1;33m\u001b[0m\u001b[1;33m\u001b[0m\u001b[0m\n\u001b[0;32m      7\u001b[0m  \u001b[1;31m# Extract and return just the offsets\u001b[0m\u001b[1;33m\u001b[0m\u001b[1;33m\u001b[0m\u001b[0m\n",
      "\u001b[1;32m~\\anaconda3\\lib\\site-packages\\Bio\\Seq.py\u001b[0m in \u001b[0;36m__getitem__\u001b[1;34m(self, index)\u001b[0m\n\u001b[0;32m    491\u001b[0m         \u001b[1;32melse\u001b[0m\u001b[1;33m:\u001b[0m\u001b[1;33m\u001b[0m\u001b[1;33m\u001b[0m\u001b[0m\n\u001b[0;32m    492\u001b[0m             \u001b[1;31m# Return the (sub)sequence as another Seq/MutableSeq object\u001b[0m\u001b[1;33m\u001b[0m\u001b[1;33m\u001b[0m\u001b[0m\n\u001b[1;32m--> 493\u001b[1;33m             \u001b[1;32mreturn\u001b[0m \u001b[0mself\u001b[0m\u001b[1;33m.\u001b[0m\u001b[0m__class__\u001b[0m\u001b[1;33m(\u001b[0m\u001b[0mself\u001b[0m\u001b[1;33m.\u001b[0m\u001b[0m_data\u001b[0m\u001b[1;33m[\u001b[0m\u001b[0mindex\u001b[0m\u001b[1;33m]\u001b[0m\u001b[1;33m)\u001b[0m\u001b[1;33m\u001b[0m\u001b[1;33m\u001b[0m\u001b[0m\n\u001b[0m\u001b[0;32m    494\u001b[0m \u001b[1;33m\u001b[0m\u001b[0m\n\u001b[0;32m    495\u001b[0m     \u001b[1;32mdef\u001b[0m \u001b[0m__add__\u001b[0m\u001b[1;33m(\u001b[0m\u001b[0mself\u001b[0m\u001b[1;33m,\u001b[0m \u001b[0mother\u001b[0m\u001b[1;33m)\u001b[0m\u001b[1;33m:\u001b[0m\u001b[1;33m\u001b[0m\u001b[1;33m\u001b[0m\u001b[0m\n",
      "\u001b[1;31mMemoryError\u001b[0m: "
     ]
    }
   ],
   "source": [
    "fasta = 'reference.fasta'\n",
    "fastq = 'reads.fastq'\n",
    "seedLength = 10\n",
    "margin = 2\n",
    "main(1, -3, -7,seedLength,margin,fasta,fastq)"
   ]
  },
  {
   "cell_type": "code",
   "execution_count": null,
   "id": "aee4a08e",
   "metadata": {},
   "outputs": [],
   "source": []
  }
 ],
 "metadata": {
  "kernelspec": {
   "display_name": "Python 3 (ipykernel)",
   "language": "python",
   "name": "python3"
  },
  "language_info": {
   "codemirror_mode": {
    "name": "ipython",
    "version": 3
   },
   "file_extension": ".py",
   "mimetype": "text/x-python",
   "name": "python",
   "nbconvert_exporter": "python",
   "pygments_lexer": "ipython3",
   "version": "3.9.7"
  }
 },
 "nbformat": 4,
 "nbformat_minor": 5
}
